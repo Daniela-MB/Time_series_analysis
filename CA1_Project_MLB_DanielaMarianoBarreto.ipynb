{
 "cells": [
  {
   "cell_type": "markdown",
   "id": "df0bdeb7",
   "metadata": {},
   "source": [
    "# CA 1 - Project: Machine Learning for Business"
   ]
  },
  {
   "cell_type": "markdown",
   "id": "596af08c",
   "metadata": {},
   "source": [
    "To start this project, I will gather at the beginning all the libraries used to manipulate data, create visualizations, and develop and deploy machine learning models (ML)."
   ]
  },
  {
   "cell_type": "code",
   "execution_count": 32,
   "id": "84fcec47",
   "metadata": {},
   "outputs": [],
   "source": [
    "import pandas as pd\n",
    "import numpy as np\n",
    "import statistics as stats\n",
    "import matplotlib.pyplot as plt\n",
    "import seaborn as sns\n",
    "from sklearn.preprocessing import MinMaxScaler"
   ]
  },
  {
   "cell_type": "markdown",
   "id": "d74eea6f",
   "metadata": {},
   "source": [
    "# Data Preparation"
   ]
  },
  {
   "cell_type": "markdown",
   "id": "5b8a47ce",
   "metadata": {},
   "source": [
    "## Exploratory Data Analysis (EDA):"
   ]
  },
  {
   "cell_type": "markdown",
   "id": "dad32c87",
   "metadata": {},
   "source": [
    "### Importing dataset and knowing data structure"
   ]
  },
  {
   "cell_type": "markdown",
   "id": "ede18838",
   "metadata": {},
   "source": [
    "The method 'pd.read_csv' was used to access the CSV file containing the dataset. Then, I used the method '.head()' to visualize the data, followed by the method '.shape' to determine the dataset size. I found that this dataset has 8370 rows and 13 columns."
   ]
  },
  {
   "cell_type": "code",
   "execution_count": 33,
   "id": "cbe53cee",
   "metadata": {},
   "outputs": [
    {
     "data": {
      "text/html": [
       "<div>\n",
       "<style scoped>\n",
       "    .dataframe tbody tr th:only-of-type {\n",
       "        vertical-align: middle;\n",
       "    }\n",
       "\n",
       "    .dataframe tbody tr th {\n",
       "        vertical-align: top;\n",
       "    }\n",
       "\n",
       "    .dataframe thead th {\n",
       "        text-align: right;\n",
       "    }\n",
       "</style>\n",
       "<table border=\"1\" class=\"dataframe\">\n",
       "  <thead>\n",
       "    <tr style=\"text-align: right;\">\n",
       "      <th></th>\n",
       "      <th>Course Title</th>\n",
       "      <th>Rating</th>\n",
       "      <th>Level</th>\n",
       "      <th>Schedule</th>\n",
       "      <th>What you will learn</th>\n",
       "      <th>Skill gain</th>\n",
       "      <th>Modules</th>\n",
       "      <th>Instructor</th>\n",
       "      <th>Offered By</th>\n",
       "      <th>Keyword</th>\n",
       "      <th>Course Url</th>\n",
       "      <th>Duration to complete (Approx.)</th>\n",
       "      <th>Number of Review</th>\n",
       "    </tr>\n",
       "  </thead>\n",
       "  <tbody>\n",
       "    <tr>\n",
       "      <th>0</th>\n",
       "      <td>Fashion as Design</td>\n",
       "      <td>4.8</td>\n",
       "      <td>Beginner level</td>\n",
       "      <td>Flexible schedule</td>\n",
       "      <td>Not specified</td>\n",
       "      <td>Art History, Art, History, Creativity</td>\n",
       "      <td>Introduction, Heroes, Silhouettes, Coutures, L...</td>\n",
       "      <td>Anna Burckhardt, Paola Antonelli, Michelle Mil...</td>\n",
       "      <td>The Museum of Modern Art</td>\n",
       "      <td>Arts and Humanities</td>\n",
       "      <td>https://www.coursera.org/learn/fashion-design</td>\n",
       "      <td>20.0</td>\n",
       "      <td>2813</td>\n",
       "    </tr>\n",
       "    <tr>\n",
       "      <th>1</th>\n",
       "      <td>Modern American Poetry</td>\n",
       "      <td>4.4</td>\n",
       "      <td>Beginner level</td>\n",
       "      <td>Flexible schedule</td>\n",
       "      <td>Not specified</td>\n",
       "      <td>Not specified</td>\n",
       "      <td>Orientation, Module 1, Module 2, Module 3, Mod...</td>\n",
       "      <td>Cary Nelson</td>\n",
       "      <td>University of Illinois at Urbana-Champaign</td>\n",
       "      <td>Arts and Humanities</td>\n",
       "      <td>https://www.coursera.org/learn/modern-american...</td>\n",
       "      <td>34.0</td>\n",
       "      <td>100</td>\n",
       "    </tr>\n",
       "    <tr>\n",
       "      <th>2</th>\n",
       "      <td>Pixel Art for Video Games</td>\n",
       "      <td>4.5</td>\n",
       "      <td>Beginner level</td>\n",
       "      <td>Flexible schedule</td>\n",
       "      <td>Not specified</td>\n",
       "      <td>Not specified</td>\n",
       "      <td>Week 1: Introduction to Pixel Art, Week 2: Pix...</td>\n",
       "      <td>Andrew Dennis, Ricardo Guimaraes</td>\n",
       "      <td>Michigan State University</td>\n",
       "      <td>Arts and Humanities</td>\n",
       "      <td>https://www.coursera.org/learn/pixel-art-video...</td>\n",
       "      <td>9.0</td>\n",
       "      <td>227</td>\n",
       "    </tr>\n",
       "    <tr>\n",
       "      <th>3</th>\n",
       "      <td>Distribución digital de la música independiente</td>\n",
       "      <td>0.0</td>\n",
       "      <td>Beginner level</td>\n",
       "      <td>Flexible schedule</td>\n",
       "      <td>Not specified</td>\n",
       "      <td>Not specified</td>\n",
       "      <td>Semana 1, Semana 2, Semana 3, Semana 4</td>\n",
       "      <td>Eduardo de la Vara Brown.</td>\n",
       "      <td>SAE Institute México</td>\n",
       "      <td>Arts and Humanities</td>\n",
       "      <td>https://www.coursera.org/learn/distribucion-di...</td>\n",
       "      <td>8.0</td>\n",
       "      <td>0</td>\n",
       "    </tr>\n",
       "    <tr>\n",
       "      <th>4</th>\n",
       "      <td>The Blues: Understanding and Performing an Ame...</td>\n",
       "      <td>4.8</td>\n",
       "      <td>Beginner level</td>\n",
       "      <td>Flexible schedule</td>\n",
       "      <td>Students will be able to describe the blues as...</td>\n",
       "      <td>Music, Chord, Jazz, Jazz Improvisation</td>\n",
       "      <td>Blues Progressions – Theory and Practice , Blu...</td>\n",
       "      <td>Dariusz Terefenko</td>\n",
       "      <td>University of Rochester</td>\n",
       "      <td>Arts and Humanities</td>\n",
       "      <td>https://www.coursera.org/learn/the-blues</td>\n",
       "      <td>11.0</td>\n",
       "      <td>582</td>\n",
       "    </tr>\n",
       "  </tbody>\n",
       "</table>\n",
       "</div>"
      ],
      "text/plain": [
       "                                        Course Title  Rating           Level  \\\n",
       "0                                  Fashion as Design     4.8  Beginner level   \n",
       "1                             Modern American Poetry     4.4  Beginner level   \n",
       "2                          Pixel Art for Video Games     4.5  Beginner level   \n",
       "3    Distribución digital de la música independiente     0.0  Beginner level   \n",
       "4  The Blues: Understanding and Performing an Ame...     4.8  Beginner level   \n",
       "\n",
       "            Schedule                                What you will learn  \\\n",
       "0  Flexible schedule                                      Not specified   \n",
       "1  Flexible schedule                                      Not specified   \n",
       "2  Flexible schedule                                      Not specified   \n",
       "3  Flexible schedule                                      Not specified   \n",
       "4  Flexible schedule  Students will be able to describe the blues as...   \n",
       "\n",
       "                               Skill gain  \\\n",
       "0   Art History, Art, History, Creativity   \n",
       "1                           Not specified   \n",
       "2                           Not specified   \n",
       "3                           Not specified   \n",
       "4  Music, Chord, Jazz, Jazz Improvisation   \n",
       "\n",
       "                                             Modules  \\\n",
       "0  Introduction, Heroes, Silhouettes, Coutures, L...   \n",
       "1  Orientation, Module 1, Module 2, Module 3, Mod...   \n",
       "2  Week 1: Introduction to Pixel Art, Week 2: Pix...   \n",
       "3             Semana 1, Semana 2, Semana 3, Semana 4   \n",
       "4  Blues Progressions – Theory and Practice , Blu...   \n",
       "\n",
       "                                          Instructor  \\\n",
       "0  Anna Burckhardt, Paola Antonelli, Michelle Mil...   \n",
       "1                                        Cary Nelson   \n",
       "2                   Andrew Dennis, Ricardo Guimaraes   \n",
       "3                          Eduardo de la Vara Brown.   \n",
       "4                                  Dariusz Terefenko   \n",
       "\n",
       "                                   Offered By              Keyword  \\\n",
       "0                    The Museum of Modern Art  Arts and Humanities   \n",
       "1  University of Illinois at Urbana-Champaign  Arts and Humanities   \n",
       "2                   Michigan State University  Arts and Humanities   \n",
       "3                        SAE Institute México  Arts and Humanities   \n",
       "4                     University of Rochester  Arts and Humanities   \n",
       "\n",
       "                                          Course Url  \\\n",
       "0      https://www.coursera.org/learn/fashion-design   \n",
       "1  https://www.coursera.org/learn/modern-american...   \n",
       "2  https://www.coursera.org/learn/pixel-art-video...   \n",
       "3  https://www.coursera.org/learn/distribucion-di...   \n",
       "4           https://www.coursera.org/learn/the-blues   \n",
       "\n",
       "   Duration to complete (Approx.)  Number of Review  \n",
       "0                            20.0              2813  \n",
       "1                            34.0               100  \n",
       "2                             9.0               227  \n",
       "3                             8.0                 0  \n",
       "4                            11.0               582  "
      ]
     },
     "execution_count": 33,
     "metadata": {},
     "output_type": "execute_result"
    }
   ],
   "source": [
    "df = pd.read_csv(\"CourseraDataset-Clean.csv\")\n",
    "df.head()"
   ]
  },
  {
   "cell_type": "code",
   "execution_count": 34,
   "id": "76d78424",
   "metadata": {},
   "outputs": [
    {
     "data": {
      "text/plain": [
       "(8370, 13)"
      ]
     },
     "execution_count": 34,
     "metadata": {},
     "output_type": "execute_result"
    }
   ],
   "source": [
    "df.shape"
   ]
  },
  {
   "cell_type": "markdown",
   "id": "868672ff",
   "metadata": {},
   "source": [
    "The property '.dtypes' returns a Series with the data type of each column. Thus, we have ten object columns, two floats and one integer.   "
   ]
  },
  {
   "cell_type": "code",
   "execution_count": 35,
   "id": "93e251f7",
   "metadata": {},
   "outputs": [
    {
     "data": {
      "text/plain": [
       "Course Title                       object\n",
       "Rating                            float64\n",
       "Level                              object\n",
       "Schedule                           object\n",
       "What you will learn                object\n",
       "Skill gain                         object\n",
       "Modules                            object\n",
       "Instructor                         object\n",
       "Offered By                         object\n",
       "Keyword                            object\n",
       "Course Url                         object\n",
       "Duration to complete (Approx.)    float64\n",
       "Number of Review                    int64\n",
       "dtype: object"
      ]
     },
     "execution_count": 35,
     "metadata": {},
     "output_type": "execute_result"
    }
   ],
   "source": [
    "df.dtypes"
   ]
  },
  {
   "cell_type": "markdown",
   "id": "2f06629a",
   "metadata": {},
   "source": [
    "The '.describe()' tool generates descriptive statistics from the dataset. Comparing the mean and median values (50% value) revealed a skewed distribution in all columns. Thus, rescaling the data before applying the clustering models will be necessary because there is a considerable variation between features that can contribute to inaccurate predictions (Müller and Guido, 2017, p.138)."
   ]
  },
  {
   "cell_type": "code",
   "execution_count": 36,
   "id": "7488c666",
   "metadata": {},
   "outputs": [
    {
     "data": {
      "text/html": [
       "<div>\n",
       "<style scoped>\n",
       "    .dataframe tbody tr th:only-of-type {\n",
       "        vertical-align: middle;\n",
       "    }\n",
       "\n",
       "    .dataframe tbody tr th {\n",
       "        vertical-align: top;\n",
       "    }\n",
       "\n",
       "    .dataframe thead th {\n",
       "        text-align: right;\n",
       "    }\n",
       "</style>\n",
       "<table border=\"1\" class=\"dataframe\">\n",
       "  <thead>\n",
       "    <tr style=\"text-align: right;\">\n",
       "      <th></th>\n",
       "      <th>Rating</th>\n",
       "      <th>Duration to complete (Approx.)</th>\n",
       "      <th>Number of Review</th>\n",
       "    </tr>\n",
       "  </thead>\n",
       "  <tbody>\n",
       "    <tr>\n",
       "      <th>count</th>\n",
       "      <td>8370.000000</td>\n",
       "      <td>8370.000000</td>\n",
       "      <td>8370.000000</td>\n",
       "    </tr>\n",
       "    <tr>\n",
       "      <th>mean</th>\n",
       "      <td>4.005974</td>\n",
       "      <td>29.245968</td>\n",
       "      <td>2044.256631</td>\n",
       "    </tr>\n",
       "    <tr>\n",
       "      <th>std</th>\n",
       "      <td>1.623430</td>\n",
       "      <td>39.899608</td>\n",
       "      <td>10265.366839</td>\n",
       "    </tr>\n",
       "    <tr>\n",
       "      <th>min</th>\n",
       "      <td>0.000000</td>\n",
       "      <td>1.000000</td>\n",
       "      <td>0.000000</td>\n",
       "    </tr>\n",
       "    <tr>\n",
       "      <th>25%</th>\n",
       "      <td>4.500000</td>\n",
       "      <td>10.000000</td>\n",
       "      <td>32.000000</td>\n",
       "    </tr>\n",
       "    <tr>\n",
       "      <th>50%</th>\n",
       "      <td>4.700000</td>\n",
       "      <td>16.000000</td>\n",
       "      <td>213.000000</td>\n",
       "    </tr>\n",
       "    <tr>\n",
       "      <th>75%</th>\n",
       "      <td>4.800000</td>\n",
       "      <td>32.000000</td>\n",
       "      <td>1025.000000</td>\n",
       "    </tr>\n",
       "    <tr>\n",
       "      <th>max</th>\n",
       "      <td>5.000000</td>\n",
       "      <td>480.000000</td>\n",
       "      <td>225830.000000</td>\n",
       "    </tr>\n",
       "  </tbody>\n",
       "</table>\n",
       "</div>"
      ],
      "text/plain": [
       "            Rating  Duration to complete (Approx.)  Number of Review\n",
       "count  8370.000000                     8370.000000       8370.000000\n",
       "mean      4.005974                       29.245968       2044.256631\n",
       "std       1.623430                       39.899608      10265.366839\n",
       "min       0.000000                        1.000000          0.000000\n",
       "25%       4.500000                       10.000000         32.000000\n",
       "50%       4.700000                       16.000000        213.000000\n",
       "75%       4.800000                       32.000000       1025.000000\n",
       "max       5.000000                      480.000000     225830.000000"
      ]
     },
     "execution_count": 36,
     "metadata": {},
     "output_type": "execute_result"
    }
   ],
   "source": [
    "df.describe()"
   ]
  },
  {
   "cell_type": "markdown",
   "id": "9d05a62c",
   "metadata": {},
   "source": [
    "### Cleaning data"
   ]
  },
  {
   "cell_type": "markdown",
   "id": "f6088d16-0742-4fdc-9db2-761e1fec56d8",
   "metadata": {},
   "source": [
    "I will remove certain columns that are specific to each student record or report and thus do not provide useful information in this case, such as 'What you will learn' and 'Instructor'. This practice can help streamline the dataset, reduce noise, and focus on the relevant variables, which can lead to more accurate and insightful analyses.  "
   ]
  },
  {
   "cell_type": "code",
   "execution_count": 37,
   "id": "2b325a35-0c67-42b3-8236-bb7ebcc6072e",
   "metadata": {},
   "outputs": [],
   "source": [
    "columns_to_drop = ['What you will learn', 'Skill gain', 'Modules', 'Instructor', 'Course Url']\n",
    "df.drop(columns=columns_to_drop, inplace=True)"
   ]
  },
  {
   "cell_type": "code",
   "execution_count": 38,
   "id": "91aa4241-ff4f-45ea-8399-e326f9fdd344",
   "metadata": {},
   "outputs": [
    {
     "data": {
      "text/html": [
       "<div>\n",
       "<style scoped>\n",
       "    .dataframe tbody tr th:only-of-type {\n",
       "        vertical-align: middle;\n",
       "    }\n",
       "\n",
       "    .dataframe tbody tr th {\n",
       "        vertical-align: top;\n",
       "    }\n",
       "\n",
       "    .dataframe thead th {\n",
       "        text-align: right;\n",
       "    }\n",
       "</style>\n",
       "<table border=\"1\" class=\"dataframe\">\n",
       "  <thead>\n",
       "    <tr style=\"text-align: right;\">\n",
       "      <th></th>\n",
       "      <th>Course Title</th>\n",
       "      <th>Rating</th>\n",
       "      <th>Level</th>\n",
       "      <th>Schedule</th>\n",
       "      <th>Offered By</th>\n",
       "      <th>Keyword</th>\n",
       "      <th>Duration to complete (Approx.)</th>\n",
       "      <th>Number of Review</th>\n",
       "    </tr>\n",
       "  </thead>\n",
       "  <tbody>\n",
       "    <tr>\n",
       "      <th>0</th>\n",
       "      <td>Fashion as Design</td>\n",
       "      <td>4.8</td>\n",
       "      <td>Beginner level</td>\n",
       "      <td>Flexible schedule</td>\n",
       "      <td>The Museum of Modern Art</td>\n",
       "      <td>Arts and Humanities</td>\n",
       "      <td>20.0</td>\n",
       "      <td>2813</td>\n",
       "    </tr>\n",
       "    <tr>\n",
       "      <th>1</th>\n",
       "      <td>Modern American Poetry</td>\n",
       "      <td>4.4</td>\n",
       "      <td>Beginner level</td>\n",
       "      <td>Flexible schedule</td>\n",
       "      <td>University of Illinois at Urbana-Champaign</td>\n",
       "      <td>Arts and Humanities</td>\n",
       "      <td>34.0</td>\n",
       "      <td>100</td>\n",
       "    </tr>\n",
       "    <tr>\n",
       "      <th>2</th>\n",
       "      <td>Pixel Art for Video Games</td>\n",
       "      <td>4.5</td>\n",
       "      <td>Beginner level</td>\n",
       "      <td>Flexible schedule</td>\n",
       "      <td>Michigan State University</td>\n",
       "      <td>Arts and Humanities</td>\n",
       "      <td>9.0</td>\n",
       "      <td>227</td>\n",
       "    </tr>\n",
       "    <tr>\n",
       "      <th>3</th>\n",
       "      <td>Distribución digital de la música independiente</td>\n",
       "      <td>0.0</td>\n",
       "      <td>Beginner level</td>\n",
       "      <td>Flexible schedule</td>\n",
       "      <td>SAE Institute México</td>\n",
       "      <td>Arts and Humanities</td>\n",
       "      <td>8.0</td>\n",
       "      <td>0</td>\n",
       "    </tr>\n",
       "    <tr>\n",
       "      <th>4</th>\n",
       "      <td>The Blues: Understanding and Performing an Ame...</td>\n",
       "      <td>4.8</td>\n",
       "      <td>Beginner level</td>\n",
       "      <td>Flexible schedule</td>\n",
       "      <td>University of Rochester</td>\n",
       "      <td>Arts and Humanities</td>\n",
       "      <td>11.0</td>\n",
       "      <td>582</td>\n",
       "    </tr>\n",
       "  </tbody>\n",
       "</table>\n",
       "</div>"
      ],
      "text/plain": [
       "                                        Course Title  Rating           Level  \\\n",
       "0                                  Fashion as Design     4.8  Beginner level   \n",
       "1                             Modern American Poetry     4.4  Beginner level   \n",
       "2                          Pixel Art for Video Games     4.5  Beginner level   \n",
       "3    Distribución digital de la música independiente     0.0  Beginner level   \n",
       "4  The Blues: Understanding and Performing an Ame...     4.8  Beginner level   \n",
       "\n",
       "            Schedule                                  Offered By  \\\n",
       "0  Flexible schedule                    The Museum of Modern Art   \n",
       "1  Flexible schedule  University of Illinois at Urbana-Champaign   \n",
       "2  Flexible schedule                   Michigan State University   \n",
       "3  Flexible schedule                        SAE Institute México   \n",
       "4  Flexible schedule                     University of Rochester   \n",
       "\n",
       "               Keyword  Duration to complete (Approx.)  Number of Review  \n",
       "0  Arts and Humanities                            20.0              2813  \n",
       "1  Arts and Humanities                            34.0               100  \n",
       "2  Arts and Humanities                             9.0               227  \n",
       "3  Arts and Humanities                             8.0                 0  \n",
       "4  Arts and Humanities                            11.0               582  "
      ]
     },
     "execution_count": 38,
     "metadata": {},
     "output_type": "execute_result"
    }
   ],
   "source": [
    "df.head()"
   ]
  },
  {
   "cell_type": "code",
   "execution_count": 47,
   "id": "32f8a038-100b-4422-b1c1-ab72700d167f",
   "metadata": {},
   "outputs": [
    {
     "data": {
      "text/plain": [
       "Course Title                       object\n",
       "Rating                            float64\n",
       "Level                              object\n",
       "Schedule                           object\n",
       "Offered By                         object\n",
       "Keyword                            object\n",
       "Duration to complete (Approx.)    float64\n",
       "Number of Review                    int64\n",
       "dtype: object"
      ]
     },
     "execution_count": 47,
     "metadata": {},
     "output_type": "execute_result"
    }
   ],
   "source": [
    "df.dtypes"
   ]
  },
  {
   "cell_type": "markdown",
   "id": "17a7365e",
   "metadata": {},
   "source": [
    "#### Checking for missing values"
   ]
  },
  {
   "cell_type": "markdown",
   "id": "425b3a38",
   "metadata": {},
   "source": [
    "Although the source I got the dataset from reports that it is clean, I will certify this by looking for missing values and duplicates and doing imputation if necessary.\n",
    "\n",
    "I used the '.info()' and '.isnull().sum()' to verify the presence of missing values (null and NaN). It returned that there are zero missing points, thus no further action will be necessary in this case."
   ]
  },
  {
   "cell_type": "code",
   "execution_count": 49,
   "id": "5108831e",
   "metadata": {},
   "outputs": [
    {
     "name": "stdout",
     "output_type": "stream",
     "text": [
      "<class 'pandas.core.frame.DataFrame'>\n",
      "RangeIndex: 8370 entries, 0 to 8369\n",
      "Data columns (total 8 columns):\n",
      " #   Column                          Non-Null Count  Dtype  \n",
      "---  ------                          --------------  -----  \n",
      " 0   Course Title                    8370 non-null   object \n",
      " 1   Rating                          8370 non-null   float64\n",
      " 2   Level                           8370 non-null   object \n",
      " 3   Schedule                        8370 non-null   object \n",
      " 4   Offered By                      8370 non-null   object \n",
      " 5   Keyword                         8370 non-null   object \n",
      " 6   Duration to complete (Approx.)  8370 non-null   float64\n",
      " 7   Number of Review                8370 non-null   int64  \n",
      "dtypes: float64(2), int64(1), object(5)\n",
      "memory usage: 523.3+ KB\n"
     ]
    }
   ],
   "source": [
    "df.info()"
   ]
  },
  {
   "cell_type": "code",
   "execution_count": 50,
   "id": "bb70be93",
   "metadata": {},
   "outputs": [
    {
     "data": {
      "text/plain": [
       "Course Title                      0\n",
       "Rating                            0\n",
       "Level                             0\n",
       "Schedule                          0\n",
       "Offered By                        0\n",
       "Keyword                           0\n",
       "Duration to complete (Approx.)    0\n",
       "Number of Review                  0\n",
       "dtype: int64"
      ]
     },
     "execution_count": 50,
     "metadata": {},
     "output_type": "execute_result"
    }
   ],
   "source": [
    "df.isnull().sum()"
   ]
  },
  {
   "cell_type": "markdown",
   "id": "55faaeee",
   "metadata": {},
   "source": [
    "Then, I checked for duplicates using the '.duplicated().sum()' tool, and there were no duplicates in this dataset."
   ]
  },
  {
   "cell_type": "code",
   "execution_count": 51,
   "id": "c51a9a0d",
   "metadata": {},
   "outputs": [
    {
     "data": {
      "text/plain": [
       "0"
      ]
     },
     "execution_count": 51,
     "metadata": {},
     "output_type": "execute_result"
    }
   ],
   "source": [
    "df.duplicated().sum()"
   ]
  },
  {
   "cell_type": "markdown",
   "id": "23b0e3d4",
   "metadata": {},
   "source": [
    "#### Checking for outliers"
   ]
  },
  {
   "cell_type": "markdown",
   "id": "d57539ad",
   "metadata": {},
   "source": [
    "Based on my previous observations, this dataset appears skewed, suggesting the presence of potential outliers. To assess this, I will calculate the Interquartile Range (IQR) using the first and third quartile values. Subsequently, I will employ a boxplot graphic to visualize certain features. Finally, I will identify and, if necessary, remove any outliers that do not compromise the integrity of the dataset."
   ]
  },
  {
   "cell_type": "code",
   "execution_count": 53,
   "id": "aef76f66",
   "metadata": {},
   "outputs": [],
   "source": [
    "Q1 = df.quantile(0.25, numeric_only=True)\n",
    "Q3 = df.quantile(0.75, numeric_only=True)\n",
    "IQR = Q3 - Q1"
   ]
  },
  {
   "cell_type": "code",
   "execution_count": 54,
   "id": "16f754de",
   "metadata": {},
   "outputs": [
    {
     "name": "stderr",
     "output_type": "stream",
     "text": [
      "C:\\Users\\danie\\AppData\\Local\\Temp\\ipykernel_49876\\2878438525.py:1: FutureWarning: Automatic reindexing on DataFrame vs Series comparisons is deprecated and will raise ValueError in a future version. Do `left, right = left.align(right, axis=1, copy=False)` before e.g. `left == right`\n",
      "  df1 = df[~((df<(Q1-1.5*IQR))|(df>Q3+1.5*IQR)).any(axis=1)]\n"
     ]
    },
    {
     "data": {
      "text/plain": [
       "(5308, 8)"
      ]
     },
     "execution_count": 54,
     "metadata": {},
     "output_type": "execute_result"
    }
   ],
   "source": [
    "df1 = df[~((df<(Q1-1.5*IQR))|(df>Q3+1.5*IQR)).any(axis=1)]\n",
    "df1.shape"
   ]
  },
  {
   "cell_type": "code",
   "execution_count": 55,
   "id": "408c221d",
   "metadata": {},
   "outputs": [
    {
     "name": "stderr",
     "output_type": "stream",
     "text": [
      "C:\\Users\\danie\\AppData\\Local\\Temp\\ipykernel_49876\\2792884971.py:1: FutureWarning: Automatic reindexing on DataFrame vs Series comparisons is deprecated and will raise ValueError in a future version. Do `left, right = left.align(right, axis=1, copy=False)` before e.g. `left == right`\n",
      "  df2 = df[~((df<(Q1-2*IQR))|(df>Q3+2*IQR)).any(axis=1)]\n"
     ]
    },
    {
     "data": {
      "text/plain": [
       "(5510, 8)"
      ]
     },
     "execution_count": 55,
     "metadata": {},
     "output_type": "execute_result"
    }
   ],
   "source": [
    "df2 = df[~((df<(Q1-2*IQR))|(df>Q3+2*IQR)).any(axis=1)]\n",
    "df2.shape"
   ]
  },
  {
   "cell_type": "code",
   "execution_count": 56,
   "id": "a9540ade",
   "metadata": {},
   "outputs": [
    {
     "name": "stderr",
     "output_type": "stream",
     "text": [
      "C:\\Users\\danie\\AppData\\Local\\Temp\\ipykernel_49876\\1060118342.py:1: FutureWarning: Automatic reindexing on DataFrame vs Series comparisons is deprecated and will raise ValueError in a future version. Do `left, right = left.align(right, axis=1, copy=False)` before e.g. `left == right`\n",
      "  df3 = df[~((df<(Q1-3*IQR))|(df>Q3+3*IQR)).any(axis=1)]\n"
     ]
    },
    {
     "data": {
      "text/plain": [
       "(6159, 8)"
      ]
     },
     "execution_count": 56,
     "metadata": {},
     "output_type": "execute_result"
    }
   ],
   "source": [
    "df3 = df[~((df<(Q1-3*IQR))|(df>Q3+3*IQR)).any(axis=1)]\n",
    "df3.shape"
   ]
  },
  {
   "cell_type": "markdown",
   "id": "729995d5",
   "metadata": {},
   "source": [
    " #### Boxplot graphic to visualize outliers"
   ]
  },
  {
   "cell_type": "code",
   "execution_count": 57,
   "id": "50a2edc7",
   "metadata": {},
   "outputs": [
    {
     "data": {
      "image/png": "[encoded data removed]",
      "text/plain": [
       "<Figure size 640x480 with 1 Axes>"
      ]
     },
     "metadata": {},
     "output_type": "display_data"
    },
    {
     "data": {
      "image/png": "[encoded data removed]",
      "text/plain": [
       "<Figure size 640x480 with 1 Axes>"
      ]
     },
     "metadata": {},
     "output_type": "display_data"
    },
    {
     "data": {
      "image/png": "[encoded data removed]",
      "text/plain": [
       "<Figure size 640x480 with 1 Axes>"
      ]
     },
     "metadata": {},
     "output_type": "display_data"
    },
    {
     "data": {
      "image/png": "[encoded data removed]",
      "text/plain": [
       "<Figure size 640x480 with 1 Axes>"
      ]
     },
     "metadata": {},
     "output_type": "display_data"
    }
   ],
   "source": [
    "df.boxplot(column=['Rating', 'Duration to complete (Approx.)', 'Number of Review'])\n",
    "plt.ylim(bottom=-50000, top=250000)\n",
    "plt.title('Original data (no outliers remotion)')\n",
    "plt.ylabel('Values')\n",
    "plt.show()\n",
    "\n",
    "df1.boxplot(column=['Rating', 'Duration to complete (Approx.)', 'Number of Review'])\n",
    "plt.ylim(bottom=-500, top=3000)\n",
    "plt.title('After outliers remotion (threshold = 1.5)')\n",
    "plt.ylabel('Values')\n",
    "plt.show()\n",
    "\n",
    "df2.boxplot(column=['Rating', 'Duration to complete (Approx.)', 'Number of Review'])\n",
    "plt.ylim(bottom=-500, top=3500)\n",
    "plt.title('After outliers remotion (threshold = 2.0)')\n",
    "plt.ylabel('Values')\n",
    "plt.show()\n",
    "\n",
    "df3.boxplot(column=['Rating', 'Duration to complete (Approx.)', 'Number of Review'])\n",
    "plt.ylim(bottom=-500, top=5000)\n",
    "plt.title('After outliers remotion (threshold = 3.0)')\n",
    "plt.ylabel('Values')\n",
    "plt.show()"
   ]
  },
  {
   "cell_type": "markdown",
   "id": "2329775a",
   "metadata": {},
   "source": [
    "After applying three different thresholds (1.5, 2.0, and 3.0), I obtained the minimum amount of data removal, which would be 26.4% of the data. This is a considerable amount that might compromise the integrity of the data. Furthermore, the variables 'Rating' and 'Duration to complete (Approx.)' did not present outliers. This occurrence only affected the variable 'Number of Reviews,' which I need to be careful with when working with it. Therefore, I will not remove outliers."
   ]
  },
  {
   "cell_type": "markdown",
   "id": "ec94d809",
   "metadata": {},
   "source": [
    "## Data Preprocessing"
   ]
  },
  {
   "cell_type": "markdown",
   "id": "eeb9fd1c",
   "metadata": {},
   "source": [
    "Data preprocessing is crucial to the success of both supervised and unsupervised learning because this step can facilitate data computation more efficiently (Müller and Guido, 2017, p.138, 208).\n",
    "\n",
    "Before choosing which method to use for scaling the data, I will check the data's sparsity because it provides information about the more suitable scaling method."
   ]
  },
  {
   "cell_type": "markdown",
   "id": "4cf9faaf",
   "metadata": {},
   "source": [
    "### Sparsity of the data\n",
    "Sparse datasets are characterized by most features having 0 most of the time (Müller and Guido, 2017, p.44) and the sparsity is a measurement of how sparse or dense a dataset is. It can be represented as the ratio of the number of zero or missing values to the total number of data points or entries in the dataset. "
   ]
  },
  {
   "cell_type": "code",
   "execution_count": 62,
   "id": "acf55eec",
   "metadata": {},
   "outputs": [
    {
     "name": "stdout",
     "output_type": "stream",
     "text": [
      "Sparsity of the dataset: 0.035\n"
     ]
    }
   ],
   "source": [
    "missing_values = df.isnull().sum().sum()\n",
    "zero_values = (df == 0).sum().sum()\n",
    "\n",
    "total_data_points = df.size\n",
    "\n",
    "sparsity = (missing_values + zero_values) / total_data_points\n",
    "\n",
    "print(f\"Sparsity of the dataset: {sparsity:.3f}\")"
   ]
  },
  {
   "cell_type": "markdown",
   "id": "a44c19e0",
   "metadata": {},
   "source": [
    "The sparsity values must be between 0 and 1 when 0 indicates no sparsity, and 1 indicates completely spaced. The result for this dataset was found to be 0.035, meaning that the dataset sparcity is relatively low. Thus, this data does not have a significant portion of missing or zero values.\n",
    "\n",
    "Therefore, considering that the data is not sparse but skewed, using the MinMax Scaler is more suitable in this case. This practice is indicated for many algorithms sensitive to data scaling (Müller and Guido, 2017, p.132)."
   ]
  },
  {
   "cell_type": "markdown",
   "id": "99b11496",
   "metadata": {},
   "source": [
    "### Data Scaling"
   ]
  },
  {
   "cell_type": "markdown",
   "id": "c7b494cb",
   "metadata": {},
   "source": [
    "The use of a data scaler is common preprocessing for many ML models. Considering the results obtained above, which indicate that the data is skewed and not sparse, Min-Max Scaling appears to be the most suitable option in this situation.\n",
    "\n",
    "To start, I will specify the numerical columns that I will scale, and then use the sklearn.preprocessing package to access the MinMaxScaler to transform the data."
   ]
  },
  {
   "cell_type": "code",
   "execution_count": 63,
   "id": "68b7f70f",
   "metadata": {},
   "outputs": [],
   "source": [
    "columns_to_scale = ['Rating', 'Duration to complete (Approx.)', 'Number of Review']\n",
    "df_subset = df[columns_to_scale]"
   ]
  },
  {
   "cell_type": "code",
   "execution_count": 64,
   "id": "77a11c59",
   "metadata": {},
   "outputs": [
    {
     "data": {
      "text/html": [
       "<div>\n",
       "<style scoped>\n",
       "    .dataframe tbody tr th:only-of-type {\n",
       "        vertical-align: middle;\n",
       "    }\n",
       "\n",
       "    .dataframe tbody tr th {\n",
       "        vertical-align: top;\n",
       "    }\n",
       "\n",
       "    .dataframe thead th {\n",
       "        text-align: right;\n",
       "    }\n",
       "</style>\n",
       "<table border=\"1\" class=\"dataframe\">\n",
       "  <thead>\n",
       "    <tr style=\"text-align: right;\">\n",
       "      <th></th>\n",
       "      <th>Rating</th>\n",
       "      <th>Duration to complete (Approx.)</th>\n",
       "      <th>Number of Review</th>\n",
       "    </tr>\n",
       "  </thead>\n",
       "  <tbody>\n",
       "    <tr>\n",
       "      <th>0</th>\n",
       "      <td>4.8</td>\n",
       "      <td>20.0</td>\n",
       "      <td>2813</td>\n",
       "    </tr>\n",
       "    <tr>\n",
       "      <th>1</th>\n",
       "      <td>4.4</td>\n",
       "      <td>34.0</td>\n",
       "      <td>100</td>\n",
       "    </tr>\n",
       "    <tr>\n",
       "      <th>2</th>\n",
       "      <td>4.5</td>\n",
       "      <td>9.0</td>\n",
       "      <td>227</td>\n",
       "    </tr>\n",
       "    <tr>\n",
       "      <th>3</th>\n",
       "      <td>0.0</td>\n",
       "      <td>8.0</td>\n",
       "      <td>0</td>\n",
       "    </tr>\n",
       "    <tr>\n",
       "      <th>4</th>\n",
       "      <td>4.8</td>\n",
       "      <td>11.0</td>\n",
       "      <td>582</td>\n",
       "    </tr>\n",
       "  </tbody>\n",
       "</table>\n",
       "</div>"
      ],
      "text/plain": [
       "   Rating  Duration to complete (Approx.)  Number of Review\n",
       "0     4.8                            20.0              2813\n",
       "1     4.4                            34.0               100\n",
       "2     4.5                             9.0               227\n",
       "3     0.0                             8.0                 0\n",
       "4     4.8                            11.0               582"
      ]
     },
     "execution_count": 64,
     "metadata": {},
     "output_type": "execute_result"
    }
   ],
   "source": [
    "df_subset.head()"
   ]
  },
  {
   "cell_type": "code",
   "execution_count": 65,
   "id": "979cffae",
   "metadata": {
    "scrolled": true
   },
   "outputs": [
    {
     "name": "stdout",
     "output_type": "stream",
     "text": [
      "[[9.60000000e-01 3.96659708e-02 1.24562724e-02]\n",
      " [8.80000000e-01 6.88935282e-02 4.42810964e-04]\n",
      " [9.00000000e-01 1.67014614e-02 1.00518089e-03]\n",
      " ...\n",
      " [0.00000000e+00 1.67014614e-02 0.00000000e+00]\n",
      " [0.00000000e+00 3.75782881e-02 0.00000000e+00]\n",
      " [0.00000000e+00 2.08768267e-03 0.00000000e+00]]\n"
     ]
    }
   ],
   "source": [
    "scaler = MinMaxScaler()\n",
    "df_scaled = scaler.fit_transform(df_subset)\n",
    "print(df_scaled)"
   ]
  },
  {
   "cell_type": "markdown",
   "id": "d038e518",
   "metadata": {},
   "source": [
    "I will now convert the array df_scaled into a dataframe (df_scaled1), and then concatenate df_scaled1 with df."
   ]
  },
  {
   "cell_type": "code",
   "execution_count": 67,
   "id": "ed0afd96",
   "metadata": {},
   "outputs": [
    {
     "data": {
      "text/html": [
       "<div>\n",
       "<style scoped>\n",
       "    .dataframe tbody tr th:only-of-type {\n",
       "        vertical-align: middle;\n",
       "    }\n",
       "\n",
       "    .dataframe tbody tr th {\n",
       "        vertical-align: top;\n",
       "    }\n",
       "\n",
       "    .dataframe thead th {\n",
       "        text-align: right;\n",
       "    }\n",
       "</style>\n",
       "<table border=\"1\" class=\"dataframe\">\n",
       "  <thead>\n",
       "    <tr style=\"text-align: right;\">\n",
       "      <th></th>\n",
       "      <th>rating</th>\n",
       "      <th>duration_complete</th>\n",
       "      <th>number_review</th>\n",
       "    </tr>\n",
       "  </thead>\n",
       "  <tbody>\n",
       "    <tr>\n",
       "      <th>0</th>\n",
       "      <td>0.96</td>\n",
       "      <td>0.039666</td>\n",
       "      <td>0.012456</td>\n",
       "    </tr>\n",
       "    <tr>\n",
       "      <th>1</th>\n",
       "      <td>0.88</td>\n",
       "      <td>0.068894</td>\n",
       "      <td>0.000443</td>\n",
       "    </tr>\n",
       "    <tr>\n",
       "      <th>2</th>\n",
       "      <td>0.90</td>\n",
       "      <td>0.016701</td>\n",
       "      <td>0.001005</td>\n",
       "    </tr>\n",
       "    <tr>\n",
       "      <th>3</th>\n",
       "      <td>0.00</td>\n",
       "      <td>0.014614</td>\n",
       "      <td>0.000000</td>\n",
       "    </tr>\n",
       "    <tr>\n",
       "      <th>4</th>\n",
       "      <td>0.96</td>\n",
       "      <td>0.020877</td>\n",
       "      <td>0.002577</td>\n",
       "    </tr>\n",
       "  </tbody>\n",
       "</table>\n",
       "</div>"
      ],
      "text/plain": [
       "   rating  duration_complete  number_review\n",
       "0    0.96           0.039666       0.012456\n",
       "1    0.88           0.068894       0.000443\n",
       "2    0.90           0.016701       0.001005\n",
       "3    0.00           0.014614       0.000000\n",
       "4    0.96           0.020877       0.002577"
      ]
     },
     "execution_count": 67,
     "metadata": {},
     "output_type": "execute_result"
    }
   ],
   "source": [
    "columns = [\"rating\", \"duration_complete\", \"number_review\"]\n",
    "df_scaled1 = pd.DataFrame(df_scaled, columns=columns)\n",
    "df_scaled1.head()"
   ]
  },
  {
   "cell_type": "code",
   "execution_count": 68,
   "id": "79a39458",
   "metadata": {
    "scrolled": true
   },
   "outputs": [
    {
     "data": {
      "text/html": [
       "<div>\n",
       "<style scoped>\n",
       "    .dataframe tbody tr th:only-of-type {\n",
       "        vertical-align: middle;\n",
       "    }\n",
       "\n",
       "    .dataframe tbody tr th {\n",
       "        vertical-align: top;\n",
       "    }\n",
       "\n",
       "    .dataframe thead th {\n",
       "        text-align: right;\n",
       "    }\n",
       "</style>\n",
       "<table border=\"1\" class=\"dataframe\">\n",
       "  <thead>\n",
       "    <tr style=\"text-align: right;\">\n",
       "      <th></th>\n",
       "      <th>rating</th>\n",
       "      <th>duration_complete</th>\n",
       "      <th>number_review</th>\n",
       "      <th>Course Title</th>\n",
       "      <th>Rating</th>\n",
       "      <th>Level</th>\n",
       "      <th>Schedule</th>\n",
       "      <th>Offered By</th>\n",
       "      <th>Keyword</th>\n",
       "      <th>Duration to complete (Approx.)</th>\n",
       "      <th>Number of Review</th>\n",
       "    </tr>\n",
       "  </thead>\n",
       "  <tbody>\n",
       "    <tr>\n",
       "      <th>0</th>\n",
       "      <td>0.96</td>\n",
       "      <td>0.039666</td>\n",
       "      <td>0.012456</td>\n",
       "      <td>Fashion as Design</td>\n",
       "      <td>4.8</td>\n",
       "      <td>Beginner level</td>\n",
       "      <td>Flexible schedule</td>\n",
       "      <td>The Museum of Modern Art</td>\n",
       "      <td>Arts and Humanities</td>\n",
       "      <td>20.0</td>\n",
       "      <td>2813</td>\n",
       "    </tr>\n",
       "    <tr>\n",
       "      <th>1</th>\n",
       "      <td>0.88</td>\n",
       "      <td>0.068894</td>\n",
       "      <td>0.000443</td>\n",
       "      <td>Modern American Poetry</td>\n",
       "      <td>4.4</td>\n",
       "      <td>Beginner level</td>\n",
       "      <td>Flexible schedule</td>\n",
       "      <td>University of Illinois at Urbana-Champaign</td>\n",
       "      <td>Arts and Humanities</td>\n",
       "      <td>34.0</td>\n",
       "      <td>100</td>\n",
       "    </tr>\n",
       "    <tr>\n",
       "      <th>2</th>\n",
       "      <td>0.90</td>\n",
       "      <td>0.016701</td>\n",
       "      <td>0.001005</td>\n",
       "      <td>Pixel Art for Video Games</td>\n",
       "      <td>4.5</td>\n",
       "      <td>Beginner level</td>\n",
       "      <td>Flexible schedule</td>\n",
       "      <td>Michigan State University</td>\n",
       "      <td>Arts and Humanities</td>\n",
       "      <td>9.0</td>\n",
       "      <td>227</td>\n",
       "    </tr>\n",
       "    <tr>\n",
       "      <th>3</th>\n",
       "      <td>0.00</td>\n",
       "      <td>0.014614</td>\n",
       "      <td>0.000000</td>\n",
       "      <td>Distribución digital de la música independiente</td>\n",
       "      <td>0.0</td>\n",
       "      <td>Beginner level</td>\n",
       "      <td>Flexible schedule</td>\n",
       "      <td>SAE Institute México</td>\n",
       "      <td>Arts and Humanities</td>\n",
       "      <td>8.0</td>\n",
       "      <td>0</td>\n",
       "    </tr>\n",
       "    <tr>\n",
       "      <th>4</th>\n",
       "      <td>0.96</td>\n",
       "      <td>0.020877</td>\n",
       "      <td>0.002577</td>\n",
       "      <td>The Blues: Understanding and Performing an Ame...</td>\n",
       "      <td>4.8</td>\n",
       "      <td>Beginner level</td>\n",
       "      <td>Flexible schedule</td>\n",
       "      <td>University of Rochester</td>\n",
       "      <td>Arts and Humanities</td>\n",
       "      <td>11.0</td>\n",
       "      <td>582</td>\n",
       "    </tr>\n",
       "  </tbody>\n",
       "</table>\n",
       "</div>"
      ],
      "text/plain": [
       "   rating  duration_complete  number_review  \\\n",
       "0    0.96           0.039666       0.012456   \n",
       "1    0.88           0.068894       0.000443   \n",
       "2    0.90           0.016701       0.001005   \n",
       "3    0.00           0.014614       0.000000   \n",
       "4    0.96           0.020877       0.002577   \n",
       "\n",
       "                                        Course Title  Rating           Level  \\\n",
       "0                                  Fashion as Design     4.8  Beginner level   \n",
       "1                             Modern American Poetry     4.4  Beginner level   \n",
       "2                          Pixel Art for Video Games     4.5  Beginner level   \n",
       "3    Distribución digital de la música independiente     0.0  Beginner level   \n",
       "4  The Blues: Understanding and Performing an Ame...     4.8  Beginner level   \n",
       "\n",
       "            Schedule                                  Offered By  \\\n",
       "0  Flexible schedule                    The Museum of Modern Art   \n",
       "1  Flexible schedule  University of Illinois at Urbana-Champaign   \n",
       "2  Flexible schedule                   Michigan State University   \n",
       "3  Flexible schedule                        SAE Institute México   \n",
       "4  Flexible schedule                     University of Rochester   \n",
       "\n",
       "               Keyword  Duration to complete (Approx.)  Number of Review  \n",
       "0  Arts and Humanities                            20.0              2813  \n",
       "1  Arts and Humanities                            34.0               100  \n",
       "2  Arts and Humanities                             9.0               227  \n",
       "3  Arts and Humanities                             8.0                 0  \n",
       "4  Arts and Humanities                            11.0               582  "
      ]
     },
     "execution_count": 68,
     "metadata": {},
     "output_type": "execute_result"
    }
   ],
   "source": [
    "combined_df = pd.concat([df_scaled1, df], axis=1)\n",
    "combined_df.head()"
   ]
  },
  {
   "cell_type": "code",
   "execution_count": 69,
   "id": "c4470fab",
   "metadata": {
    "scrolled": true
   },
   "outputs": [
    {
     "data": {
      "text/html": [
       "<div>\n",
       "<style scoped>\n",
       "    .dataframe tbody tr th:only-of-type {\n",
       "        vertical-align: middle;\n",
       "    }\n",
       "\n",
       "    .dataframe tbody tr th {\n",
       "        vertical-align: top;\n",
       "    }\n",
       "\n",
       "    .dataframe thead th {\n",
       "        text-align: right;\n",
       "    }\n",
       "</style>\n",
       "<table border=\"1\" class=\"dataframe\">\n",
       "  <thead>\n",
       "    <tr style=\"text-align: right;\">\n",
       "      <th></th>\n",
       "      <th>rating</th>\n",
       "      <th>duration_complete</th>\n",
       "      <th>number_review</th>\n",
       "      <th>Course Title</th>\n",
       "      <th>Level</th>\n",
       "      <th>Schedule</th>\n",
       "      <th>Offered By</th>\n",
       "      <th>Keyword</th>\n",
       "    </tr>\n",
       "  </thead>\n",
       "  <tbody>\n",
       "    <tr>\n",
       "      <th>0</th>\n",
       "      <td>0.96</td>\n",
       "      <td>0.039666</td>\n",
       "      <td>0.012456</td>\n",
       "      <td>Fashion as Design</td>\n",
       "      <td>Beginner level</td>\n",
       "      <td>Flexible schedule</td>\n",
       "      <td>The Museum of Modern Art</td>\n",
       "      <td>Arts and Humanities</td>\n",
       "    </tr>\n",
       "    <tr>\n",
       "      <th>1</th>\n",
       "      <td>0.88</td>\n",
       "      <td>0.068894</td>\n",
       "      <td>0.000443</td>\n",
       "      <td>Modern American Poetry</td>\n",
       "      <td>Beginner level</td>\n",
       "      <td>Flexible schedule</td>\n",
       "      <td>University of Illinois at Urbana-Champaign</td>\n",
       "      <td>Arts and Humanities</td>\n",
       "    </tr>\n",
       "    <tr>\n",
       "      <th>2</th>\n",
       "      <td>0.90</td>\n",
       "      <td>0.016701</td>\n",
       "      <td>0.001005</td>\n",
       "      <td>Pixel Art for Video Games</td>\n",
       "      <td>Beginner level</td>\n",
       "      <td>Flexible schedule</td>\n",
       "      <td>Michigan State University</td>\n",
       "      <td>Arts and Humanities</td>\n",
       "    </tr>\n",
       "    <tr>\n",
       "      <th>3</th>\n",
       "      <td>0.00</td>\n",
       "      <td>0.014614</td>\n",
       "      <td>0.000000</td>\n",
       "      <td>Distribución digital de la música independiente</td>\n",
       "      <td>Beginner level</td>\n",
       "      <td>Flexible schedule</td>\n",
       "      <td>SAE Institute México</td>\n",
       "      <td>Arts and Humanities</td>\n",
       "    </tr>\n",
       "    <tr>\n",
       "      <th>4</th>\n",
       "      <td>0.96</td>\n",
       "      <td>0.020877</td>\n",
       "      <td>0.002577</td>\n",
       "      <td>The Blues: Understanding and Performing an Ame...</td>\n",
       "      <td>Beginner level</td>\n",
       "      <td>Flexible schedule</td>\n",
       "      <td>University of Rochester</td>\n",
       "      <td>Arts and Humanities</td>\n",
       "    </tr>\n",
       "  </tbody>\n",
       "</table>\n",
       "</div>"
      ],
      "text/plain": [
       "   rating  duration_complete  number_review  \\\n",
       "0    0.96           0.039666       0.012456   \n",
       "1    0.88           0.068894       0.000443   \n",
       "2    0.90           0.016701       0.001005   \n",
       "3    0.00           0.014614       0.000000   \n",
       "4    0.96           0.020877       0.002577   \n",
       "\n",
       "                                        Course Title           Level  \\\n",
       "0                                  Fashion as Design  Beginner level   \n",
       "1                             Modern American Poetry  Beginner level   \n",
       "2                          Pixel Art for Video Games  Beginner level   \n",
       "3    Distribución digital de la música independiente  Beginner level   \n",
       "4  The Blues: Understanding and Performing an Ame...  Beginner level   \n",
       "\n",
       "            Schedule                                  Offered By  \\\n",
       "0  Flexible schedule                    The Museum of Modern Art   \n",
       "1  Flexible schedule  University of Illinois at Urbana-Champaign   \n",
       "2  Flexible schedule                   Michigan State University   \n",
       "3  Flexible schedule                        SAE Institute México   \n",
       "4  Flexible schedule                     University of Rochester   \n",
       "\n",
       "               Keyword  \n",
       "0  Arts and Humanities  \n",
       "1  Arts and Humanities  \n",
       "2  Arts and Humanities  \n",
       "3  Arts and Humanities  \n",
       "4  Arts and Humanities  "
      ]
     },
     "execution_count": 69,
     "metadata": {},
     "output_type": "execute_result"
    }
   ],
   "source": [
    "data = combined_df.drop([\"Rating\", \"Duration to complete (Approx.)\", \"Number of Review\"], axis=1)\n",
    "data.head()  "
   ]
  },
  {
   "cell_type": "markdown",
   "id": "3cca313c",
   "metadata": {},
   "source": [
    "I checked again for missing values after the concatenation and found that there are no missing values."
   ]
  },
  {
   "cell_type": "code",
   "execution_count": 73,
   "id": "bd74d230",
   "metadata": {},
   "outputs": [
    {
     "data": {
      "text/plain": [
       "(8370, 8)"
      ]
     },
     "execution_count": 73,
     "metadata": {},
     "output_type": "execute_result"
    }
   ],
   "source": [
    "data.shape"
   ]
  },
  {
   "cell_type": "code",
   "execution_count": 74,
   "id": "c970b35e",
   "metadata": {
    "scrolled": true
   },
   "outputs": [
    {
     "data": {
      "text/plain": [
       "rating               0\n",
       "duration_complete    0\n",
       "number_review        0\n",
       "Course Title         0\n",
       "Level                0\n",
       "Schedule             0\n",
       "Offered By           0\n",
       "Keyword              0\n",
       "dtype: int64"
      ]
     },
     "execution_count": 74,
     "metadata": {},
     "output_type": "execute_result"
    }
   ],
   "source": [
    "data.isnull().sum()"
   ]
  },
  {
   "cell_type": "markdown",
   "id": "cc88bc00",
   "metadata": {},
   "source": [
    "# ML models"
   ]
  },
  {
   "cell_type": "markdown",
   "id": "a47776e0-c15c-44f2-87b6-8e45888f045a",
   "metadata": {},
   "source": []
  },
  {
   "cell_type": "code",
   "execution_count": 75,
   "id": "5554c8b2-780a-4d24-b52f-9e32006fe3cd",
   "metadata": {},
   "outputs": [
    {
     "data": {
      "text/html": [
       "<div>\n",
       "<style scoped>\n",
       "    .dataframe tbody tr th:only-of-type {\n",
       "        vertical-align: middle;\n",
       "    }\n",
       "\n",
       "    .dataframe tbody tr th {\n",
       "        vertical-align: top;\n",
       "    }\n",
       "\n",
       "    .dataframe thead th {\n",
       "        text-align: right;\n",
       "    }\n",
       "</style>\n",
       "<table border=\"1\" class=\"dataframe\">\n",
       "  <thead>\n",
       "    <tr style=\"text-align: right;\">\n",
       "      <th></th>\n",
       "      <th>rating</th>\n",
       "      <th>duration_complete</th>\n",
       "      <th>number_review</th>\n",
       "      <th>Course Title</th>\n",
       "      <th>Level</th>\n",
       "      <th>Schedule</th>\n",
       "      <th>Offered By</th>\n",
       "      <th>Keyword</th>\n",
       "    </tr>\n",
       "  </thead>\n",
       "  <tbody>\n",
       "    <tr>\n",
       "      <th>0</th>\n",
       "      <td>0.96</td>\n",
       "      <td>0.039666</td>\n",
       "      <td>0.012456</td>\n",
       "      <td>Fashion as Design</td>\n",
       "      <td>Beginner level</td>\n",
       "      <td>Flexible schedule</td>\n",
       "      <td>The Museum of Modern Art</td>\n",
       "      <td>Arts and Humanities</td>\n",
       "    </tr>\n",
       "    <tr>\n",
       "      <th>1</th>\n",
       "      <td>0.88</td>\n",
       "      <td>0.068894</td>\n",
       "      <td>0.000443</td>\n",
       "      <td>Modern American Poetry</td>\n",
       "      <td>Beginner level</td>\n",
       "      <td>Flexible schedule</td>\n",
       "      <td>University of Illinois at Urbana-Champaign</td>\n",
       "      <td>Arts and Humanities</td>\n",
       "    </tr>\n",
       "    <tr>\n",
       "      <th>2</th>\n",
       "      <td>0.90</td>\n",
       "      <td>0.016701</td>\n",
       "      <td>0.001005</td>\n",
       "      <td>Pixel Art for Video Games</td>\n",
       "      <td>Beginner level</td>\n",
       "      <td>Flexible schedule</td>\n",
       "      <td>Michigan State University</td>\n",
       "      <td>Arts and Humanities</td>\n",
       "    </tr>\n",
       "    <tr>\n",
       "      <th>3</th>\n",
       "      <td>0.00</td>\n",
       "      <td>0.014614</td>\n",
       "      <td>0.000000</td>\n",
       "      <td>Distribución digital de la música independiente</td>\n",
       "      <td>Beginner level</td>\n",
       "      <td>Flexible schedule</td>\n",
       "      <td>SAE Institute México</td>\n",
       "      <td>Arts and Humanities</td>\n",
       "    </tr>\n",
       "    <tr>\n",
       "      <th>4</th>\n",
       "      <td>0.96</td>\n",
       "      <td>0.020877</td>\n",
       "      <td>0.002577</td>\n",
       "      <td>The Blues: Understanding and Performing an Ame...</td>\n",
       "      <td>Beginner level</td>\n",
       "      <td>Flexible schedule</td>\n",
       "      <td>University of Rochester</td>\n",
       "      <td>Arts and Humanities</td>\n",
       "    </tr>\n",
       "    <tr>\n",
       "      <th>...</th>\n",
       "      <td>...</td>\n",
       "      <td>...</td>\n",
       "      <td>...</td>\n",
       "      <td>...</td>\n",
       "      <td>...</td>\n",
       "      <td>...</td>\n",
       "      <td>...</td>\n",
       "      <td>...</td>\n",
       "    </tr>\n",
       "    <tr>\n",
       "      <th>8365</th>\n",
       "      <td>0.98</td>\n",
       "      <td>0.027140</td>\n",
       "      <td>0.000133</td>\n",
       "      <td>Architecting with Google Kubernetes Engine: Pr...</td>\n",
       "      <td>Intermediate level</td>\n",
       "      <td>Flexible schedule</td>\n",
       "      <td>Google Cloud</td>\n",
       "      <td>Social Sciences</td>\n",
       "    </tr>\n",
       "    <tr>\n",
       "      <th>8366</th>\n",
       "      <td>0.00</td>\n",
       "      <td>0.020877</td>\n",
       "      <td>0.000000</td>\n",
       "      <td>Computational Thinking for K-12 Educators: Nes...</td>\n",
       "      <td>Beginner level</td>\n",
       "      <td>Flexible schedule</td>\n",
       "      <td>University of California San Diego</td>\n",
       "      <td>Social Sciences</td>\n",
       "    </tr>\n",
       "    <tr>\n",
       "      <th>8367</th>\n",
       "      <td>0.00</td>\n",
       "      <td>0.016701</td>\n",
       "      <td>0.000000</td>\n",
       "      <td>Cómo combinar y analizar datos complejos</td>\n",
       "      <td>Not specified</td>\n",
       "      <td>Flexible schedule</td>\n",
       "      <td>University of Maryland, College Park</td>\n",
       "      <td>Social Sciences</td>\n",
       "    </tr>\n",
       "    <tr>\n",
       "      <th>8368</th>\n",
       "      <td>0.00</td>\n",
       "      <td>0.037578</td>\n",
       "      <td>0.000000</td>\n",
       "      <td>Architecting with Google Kubernetes Engine: Wo...</td>\n",
       "      <td>Intermediate level</td>\n",
       "      <td>Flexible schedule</td>\n",
       "      <td>Google Cloud</td>\n",
       "      <td>Social Sciences</td>\n",
       "    </tr>\n",
       "    <tr>\n",
       "      <th>8369</th>\n",
       "      <td>0.00</td>\n",
       "      <td>0.002088</td>\n",
       "      <td>0.000000</td>\n",
       "      <td>Visualizing static networks with R</td>\n",
       "      <td>Intermediate level</td>\n",
       "      <td>Hands-on learning</td>\n",
       "      <td>Coursera Project Network</td>\n",
       "      <td>Social Sciences</td>\n",
       "    </tr>\n",
       "  </tbody>\n",
       "</table>\n",
       "<p>8370 rows × 8 columns</p>\n",
       "</div>"
      ],
      "text/plain": [
       "      rating  duration_complete  number_review  \\\n",
       "0       0.96           0.039666       0.012456   \n",
       "1       0.88           0.068894       0.000443   \n",
       "2       0.90           0.016701       0.001005   \n",
       "3       0.00           0.014614       0.000000   \n",
       "4       0.96           0.020877       0.002577   \n",
       "...      ...                ...            ...   \n",
       "8365    0.98           0.027140       0.000133   \n",
       "8366    0.00           0.020877       0.000000   \n",
       "8367    0.00           0.016701       0.000000   \n",
       "8368    0.00           0.037578       0.000000   \n",
       "8369    0.00           0.002088       0.000000   \n",
       "\n",
       "                                           Course Title               Level  \\\n",
       "0                                     Fashion as Design      Beginner level   \n",
       "1                                Modern American Poetry      Beginner level   \n",
       "2                             Pixel Art for Video Games      Beginner level   \n",
       "3       Distribución digital de la música independiente      Beginner level   \n",
       "4     The Blues: Understanding and Performing an Ame...      Beginner level   \n",
       "...                                                 ...                 ...   \n",
       "8365  Architecting with Google Kubernetes Engine: Pr...  Intermediate level   \n",
       "8366  Computational Thinking for K-12 Educators: Nes...      Beginner level   \n",
       "8367           Cómo combinar y analizar datos complejos       Not specified   \n",
       "8368  Architecting with Google Kubernetes Engine: Wo...  Intermediate level   \n",
       "8369                 Visualizing static networks with R  Intermediate level   \n",
       "\n",
       "               Schedule                                  Offered By  \\\n",
       "0     Flexible schedule                    The Museum of Modern Art   \n",
       "1     Flexible schedule  University of Illinois at Urbana-Champaign   \n",
       "2     Flexible schedule                   Michigan State University   \n",
       "3     Flexible schedule                        SAE Institute México   \n",
       "4     Flexible schedule                     University of Rochester   \n",
       "...                 ...                                         ...   \n",
       "8365  Flexible schedule                                Google Cloud   \n",
       "8366  Flexible schedule          University of California San Diego   \n",
       "8367  Flexible schedule        University of Maryland, College Park   \n",
       "8368  Flexible schedule                                Google Cloud   \n",
       "8369  Hands-on learning                    Coursera Project Network   \n",
       "\n",
       "                  Keyword  \n",
       "0     Arts and Humanities  \n",
       "1     Arts and Humanities  \n",
       "2     Arts and Humanities  \n",
       "3     Arts and Humanities  \n",
       "4     Arts and Humanities  \n",
       "...                   ...  \n",
       "8365      Social Sciences  \n",
       "8366      Social Sciences  \n",
       "8367      Social Sciences  \n",
       "8368      Social Sciences  \n",
       "8369      Social Sciences  \n",
       "\n",
       "[8370 rows x 8 columns]"
      ]
     },
     "execution_count": 75,
     "metadata": {},
     "output_type": "execute_result"
    }
   ],
   "source": [
    "data"
   ]
  },
  {
   "cell_type": "markdown",
   "id": "97a06685-cf92-4533-a8ae-52eaa19db0c3",
   "metadata": {},
   "source": [
    "### DBSCAN"
   ]
  },
  {
   "cell_type": "code",
   "execution_count": null,
   "id": "7e8d89dd-a27b-41dc-8661-b17d07662d73",
   "metadata": {},
   "outputs": [],
   "source": []
  },
  {
   "cell_type": "code",
   "execution_count": null,
   "id": "b0c13cea-678d-4611-8903-7d73e17470bc",
   "metadata": {},
   "outputs": [],
   "source": []
  },
  {
   "cell_type": "code",
   "execution_count": null,
   "id": "89da65f1-06b2-4052-99a3-5aff56bf4547",
   "metadata": {},
   "outputs": [],
   "source": []
  },
  {
   "cell_type": "code",
   "execution_count": null,
   "id": "a3edfdb2-aa19-4752-b99b-2e56ef8ede91",
   "metadata": {},
   "outputs": [],
   "source": []
  },
  {
   "cell_type": "code",
   "execution_count": null,
   "id": "13f48fb3-4eec-4bce-bc8a-2bb007505312",
   "metadata": {},
   "outputs": [],
   "source": []
  },
  {
   "cell_type": "code",
   "execution_count": null,
   "id": "66cfdea3-5771-48ea-95b9-288c001adda0",
   "metadata": {},
   "outputs": [],
   "source": []
  },
  {
   "cell_type": "code",
   "execution_count": null,
   "id": "fd2cf139",
   "metadata": {},
   "outputs": [],
   "source": []
  },
  {
   "cell_type": "code",
   "execution_count": null,
   "id": "35de1a0d",
   "metadata": {},
   "outputs": [],
   "source": []
  },
  {
   "cell_type": "markdown",
   "id": "06a46daa-ba0b-451c-97d3-cf1b97b6b619",
   "metadata": {
    "scrolled": true
   },
   "source": [
    "### OPTICS"
   ]
  },
  {
   "cell_type": "code",
   "execution_count": null,
   "id": "51729652",
   "metadata": {},
   "outputs": [],
   "source": []
  },
  {
   "cell_type": "code",
   "execution_count": null,
   "id": "59375cce",
   "metadata": {},
   "outputs": [],
   "source": []
  },
  {
   "cell_type": "markdown",
   "id": "dfa18c79-f59b-4667-840b-6fc06f13071f",
   "metadata": {},
   "source": [
    "### ARIMA"
   ]
  },
  {
   "cell_type": "code",
   "execution_count": null,
   "id": "8088e802",
   "metadata": {},
   "outputs": [],
   "source": []
  },
  {
   "cell_type": "code",
   "execution_count": null,
   "id": "adb06233-7d0b-4fc8-bce5-b32c9aa937c6",
   "metadata": {},
   "outputs": [],
   "source": []
  },
  {
   "cell_type": "code",
   "execution_count": null,
   "id": "cfae850a-147a-4c65-b151-53b4bd23f200",
   "metadata": {},
   "outputs": [],
   "source": []
  },
  {
   "cell_type": "markdown",
   "id": "7adca6c9-e6a3-4bea-ab6f-55a72aa2f93d",
   "metadata": {},
   "source": [
    "### Forecast"
   ]
  },
  {
   "cell_type": "code",
   "execution_count": null,
   "id": "419315ac-8571-400d-9654-cfa92849c9f7",
   "metadata": {},
   "outputs": [],
   "source": []
  },
  {
   "cell_type": "code",
   "execution_count": null,
   "id": "e4ba3a23-6ac7-4310-b375-365b155a6623",
   "metadata": {},
   "outputs": [],
   "source": []
  },
  {
   "cell_type": "code",
   "execution_count": null,
   "id": "cc30afd5-5c3a-4cc2-a6c7-fd1757916b7c",
   "metadata": {},
   "outputs": [],
   "source": []
  },
  {
   "cell_type": "markdown",
   "id": "2f638ad6",
   "metadata": {},
   "source": [
    "# References"
   ]
  },
  {
   "cell_type": "markdown",
   "id": "a43e7d67",
   "metadata": {},
   "source": [
    "Müller, A. C. and Guido, S. (2017). *Introduction to machine learning with Python: a guide for data scientists*. 1st ed. United States of America. O’reilly Media."
   ]
  },
  {
   "cell_type": "code",
   "execution_count": null,
   "id": "8ed3b16a",
   "metadata": {},
   "outputs": [],
   "source": []
  }
 ],
 "metadata": {
  "kernelspec": {
   "display_name": "Python 3 (ipykernel)",
   "language": "python",
   "name": "python3"
  },
  "language_info": {
   "codemirror_mode": {
    "name": "ipython",
    "version": 3
   },
   "file_extension": ".py",
   "mimetype": "text/x-python",
   "name": "python",
   "nbconvert_exporter": "python",
   "pygments_lexer": "ipython3",
   "version": "3.11.4"
  }
 },
 "nbformat": 4,
 "nbformat_minor": 5
}
