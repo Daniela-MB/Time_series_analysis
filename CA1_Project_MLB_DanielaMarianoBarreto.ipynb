{
 "cells": [
  {
   "cell_type": "markdown",
   "id": "df0bdeb7",
   "metadata": {},
   "source": [
    "# CA 1 - Project: Machine Learning for Business"
   ]
  },
  {
   "cell_type": "markdown",
   "id": "596af08c",
   "metadata": {},
   "source": [
    "To start this project, I will gather at the beginning all the libraries used to manipulate data, create visualizations, and develop and deploy machine learning models (ML)."
   ]
  },
  {
   "cell_type": "code",
   "execution_count": 1,
   "id": "84fcec47",
   "metadata": {},
   "outputs": [],
   "source": [
    "import pandas as pd\n",
    "import numpy as np\n",
    "import statistics as stats\n",
    "import matplotlib.pyplot as plt\n",
    "import seaborn as sns\n",
    "from sklearn.preprocessing import MinMaxScaler"
   ]
  },
  {
   "cell_type": "markdown",
   "id": "d74eea6f",
   "metadata": {},
   "source": [
    "# Data Preparation"
   ]
  },
  {
   "cell_type": "markdown",
   "id": "1c63d69c",
   "metadata": {},
   "source": [
    "## Exploratory Data Analysis (EDA):"
   ]
  },
  {
   "cell_type": "markdown",
   "id": "dad32c87",
   "metadata": {},
   "source": [
    "### Importing dataset and knowing data structure"
   ]
  },
  {
   "cell_type": "markdown",
   "id": "ede18838",
   "metadata": {},
   "source": [
    "The method 'pd.read_csv' was used to access the CSV file containing the dataset. Then, I used the method '.head()' to visualize the data, followed by the method '.shape' to determine the dataset size. I found that this dataset has 8370 rows and 13 columns."
   ]
  },
  {
   "cell_type": "code",
   "execution_count": 2,
   "id": "cbe53cee",
   "metadata": {},
   "outputs": [
    {
     "data": {
      "text/html": [
       "<div>\n",
       "<style scoped>\n",
       "    .dataframe tbody tr th:only-of-type {\n",
       "        vertical-align: middle;\n",
       "    }\n",
       "\n",
       "    .dataframe tbody tr th {\n",
       "        vertical-align: top;\n",
       "    }\n",
       "\n",
       "    .dataframe thead th {\n",
       "        text-align: right;\n",
       "    }\n",
       "</style>\n",
       "<table border=\"1\" class=\"dataframe\">\n",
       "  <thead>\n",
       "    <tr style=\"text-align: right;\">\n",
       "      <th></th>\n",
       "      <th>Course Title</th>\n",
       "      <th>Rating</th>\n",
       "      <th>Level</th>\n",
       "      <th>Schedule</th>\n",
       "      <th>What you will learn</th>\n",
       "      <th>Skill gain</th>\n",
       "      <th>Modules</th>\n",
       "      <th>Instructor</th>\n",
       "      <th>Offered By</th>\n",
       "      <th>Keyword</th>\n",
       "      <th>Course Url</th>\n",
       "      <th>Duration to complete (Approx.)</th>\n",
       "      <th>Number of Review</th>\n",
       "    </tr>\n",
       "  </thead>\n",
       "  <tbody>\n",
       "    <tr>\n",
       "      <th>0</th>\n",
       "      <td>Fashion as Design</td>\n",
       "      <td>4.8</td>\n",
       "      <td>Beginner level</td>\n",
       "      <td>Flexible schedule</td>\n",
       "      <td>Not specified</td>\n",
       "      <td>Art History, Art, History, Creativity</td>\n",
       "      <td>Introduction, Heroes, Silhouettes, Coutures, L...</td>\n",
       "      <td>Anna Burckhardt, Paola Antonelli, Michelle Mil...</td>\n",
       "      <td>The Museum of Modern Art</td>\n",
       "      <td>Arts and Humanities</td>\n",
       "      <td>https://www.coursera.org/learn/fashion-design</td>\n",
       "      <td>20.0</td>\n",
       "      <td>2813</td>\n",
       "    </tr>\n",
       "    <tr>\n",
       "      <th>1</th>\n",
       "      <td>Modern American Poetry</td>\n",
       "      <td>4.4</td>\n",
       "      <td>Beginner level</td>\n",
       "      <td>Flexible schedule</td>\n",
       "      <td>Not specified</td>\n",
       "      <td>Not specified</td>\n",
       "      <td>Orientation, Module 1, Module 2, Module 3, Mod...</td>\n",
       "      <td>Cary Nelson</td>\n",
       "      <td>University of Illinois at Urbana-Champaign</td>\n",
       "      <td>Arts and Humanities</td>\n",
       "      <td>https://www.coursera.org/learn/modern-american...</td>\n",
       "      <td>34.0</td>\n",
       "      <td>100</td>\n",
       "    </tr>\n",
       "    <tr>\n",
       "      <th>2</th>\n",
       "      <td>Pixel Art for Video Games</td>\n",
       "      <td>4.5</td>\n",
       "      <td>Beginner level</td>\n",
       "      <td>Flexible schedule</td>\n",
       "      <td>Not specified</td>\n",
       "      <td>Not specified</td>\n",
       "      <td>Week 1: Introduction to Pixel Art, Week 2: Pix...</td>\n",
       "      <td>Andrew Dennis, Ricardo Guimaraes</td>\n",
       "      <td>Michigan State University</td>\n",
       "      <td>Arts and Humanities</td>\n",
       "      <td>https://www.coursera.org/learn/pixel-art-video...</td>\n",
       "      <td>9.0</td>\n",
       "      <td>227</td>\n",
       "    </tr>\n",
       "    <tr>\n",
       "      <th>3</th>\n",
       "      <td>Distribución digital de la música independiente</td>\n",
       "      <td>0.0</td>\n",
       "      <td>Beginner level</td>\n",
       "      <td>Flexible schedule</td>\n",
       "      <td>Not specified</td>\n",
       "      <td>Not specified</td>\n",
       "      <td>Semana 1, Semana 2, Semana 3, Semana 4</td>\n",
       "      <td>Eduardo de la Vara Brown.</td>\n",
       "      <td>SAE Institute México</td>\n",
       "      <td>Arts and Humanities</td>\n",
       "      <td>https://www.coursera.org/learn/distribucion-di...</td>\n",
       "      <td>8.0</td>\n",
       "      <td>0</td>\n",
       "    </tr>\n",
       "    <tr>\n",
       "      <th>4</th>\n",
       "      <td>The Blues: Understanding and Performing an Ame...</td>\n",
       "      <td>4.8</td>\n",
       "      <td>Beginner level</td>\n",
       "      <td>Flexible schedule</td>\n",
       "      <td>Students will be able to describe the blues as...</td>\n",
       "      <td>Music, Chord, Jazz, Jazz Improvisation</td>\n",
       "      <td>Blues Progressions – Theory and Practice , Blu...</td>\n",
       "      <td>Dariusz Terefenko</td>\n",
       "      <td>University of Rochester</td>\n",
       "      <td>Arts and Humanities</td>\n",
       "      <td>https://www.coursera.org/learn/the-blues</td>\n",
       "      <td>11.0</td>\n",
       "      <td>582</td>\n",
       "    </tr>\n",
       "  </tbody>\n",
       "</table>\n",
       "</div>"
      ],
      "text/plain": [
       "                                        Course Title  Rating           Level  \\\n",
       "0                                  Fashion as Design     4.8  Beginner level   \n",
       "1                             Modern American Poetry     4.4  Beginner level   \n",
       "2                          Pixel Art for Video Games     4.5  Beginner level   \n",
       "3    Distribución digital de la música independiente     0.0  Beginner level   \n",
       "4  The Blues: Understanding and Performing an Ame...     4.8  Beginner level   \n",
       "\n",
       "            Schedule                                What you will learn  \\\n",
       "0  Flexible schedule                                      Not specified   \n",
       "1  Flexible schedule                                      Not specified   \n",
       "2  Flexible schedule                                      Not specified   \n",
       "3  Flexible schedule                                      Not specified   \n",
       "4  Flexible schedule  Students will be able to describe the blues as...   \n",
       "\n",
       "                               Skill gain  \\\n",
       "0   Art History, Art, History, Creativity   \n",
       "1                           Not specified   \n",
       "2                           Not specified   \n",
       "3                           Not specified   \n",
       "4  Music, Chord, Jazz, Jazz Improvisation   \n",
       "\n",
       "                                             Modules  \\\n",
       "0  Introduction, Heroes, Silhouettes, Coutures, L...   \n",
       "1  Orientation, Module 1, Module 2, Module 3, Mod...   \n",
       "2  Week 1: Introduction to Pixel Art, Week 2: Pix...   \n",
       "3             Semana 1, Semana 2, Semana 3, Semana 4   \n",
       "4  Blues Progressions – Theory and Practice , Blu...   \n",
       "\n",
       "                                          Instructor  \\\n",
       "0  Anna Burckhardt, Paola Antonelli, Michelle Mil...   \n",
       "1                                        Cary Nelson   \n",
       "2                   Andrew Dennis, Ricardo Guimaraes   \n",
       "3                          Eduardo de la Vara Brown.   \n",
       "4                                  Dariusz Terefenko   \n",
       "\n",
       "                                   Offered By              Keyword  \\\n",
       "0                    The Museum of Modern Art  Arts and Humanities   \n",
       "1  University of Illinois at Urbana-Champaign  Arts and Humanities   \n",
       "2                   Michigan State University  Arts and Humanities   \n",
       "3                        SAE Institute México  Arts and Humanities   \n",
       "4                     University of Rochester  Arts and Humanities   \n",
       "\n",
       "                                          Course Url  \\\n",
       "0      https://www.coursera.org/learn/fashion-design   \n",
       "1  https://www.coursera.org/learn/modern-american...   \n",
       "2  https://www.coursera.org/learn/pixel-art-video...   \n",
       "3  https://www.coursera.org/learn/distribucion-di...   \n",
       "4           https://www.coursera.org/learn/the-blues   \n",
       "\n",
       "   Duration to complete (Approx.)  Number of Review  \n",
       "0                            20.0              2813  \n",
       "1                            34.0               100  \n",
       "2                             9.0               227  \n",
       "3                             8.0                 0  \n",
       "4                            11.0               582  "
      ]
     },
     "execution_count": 2,
     "metadata": {},
     "output_type": "execute_result"
    }
   ],
   "source": [
    "df = pd.read_csv(\"CourseraDataset-Clean.csv\")\n",
    "df.head()"
   ]
  },
  {
   "cell_type": "code",
   "execution_count": 3,
   "id": "76d78424",
   "metadata": {},
   "outputs": [
    {
     "data": {
      "text/plain": [
       "(8370, 13)"
      ]
     },
     "execution_count": 3,
     "metadata": {},
     "output_type": "execute_result"
    }
   ],
   "source": [
    "df.shape"
   ]
  },
  {
   "cell_type": "markdown",
   "id": "868672ff",
   "metadata": {},
   "source": [
    "The property '.dtypes' returns a Series with the data type of each column. Thus, we have ten object columns, two floats and one integer.   "
   ]
  },
  {
   "cell_type": "code",
   "execution_count": 4,
   "id": "93e251f7",
   "metadata": {},
   "outputs": [
    {
     "data": {
      "text/plain": [
       "Course Title                       object\n",
       "Rating                            float64\n",
       "Level                              object\n",
       "Schedule                           object\n",
       "What you will learn                object\n",
       "Skill gain                         object\n",
       "Modules                            object\n",
       "Instructor                         object\n",
       "Offered By                         object\n",
       "Keyword                            object\n",
       "Course Url                         object\n",
       "Duration to complete (Approx.)    float64\n",
       "Number of Review                    int64\n",
       "dtype: object"
      ]
     },
     "execution_count": 4,
     "metadata": {},
     "output_type": "execute_result"
    }
   ],
   "source": [
    "df.dtypes"
   ]
  },
  {
   "cell_type": "markdown",
   "id": "2f06629a",
   "metadata": {},
   "source": [
    "The '.describe()' tool generates descriptive statistics from the dataset. Comparing the mean and median values (50% value) revealed a skewed distribution in all columns. Thus, rescaling the data before applying the clustering models will be necessary because there is a considerable variation between features that can contribute to inaccurate predictions (Müller and Guido, 2017, p.138)."
   ]
  },
  {
   "cell_type": "code",
   "execution_count": 5,
   "id": "7488c666",
   "metadata": {},
   "outputs": [
    {
     "data": {
      "text/html": [
       "<div>\n",
       "<style scoped>\n",
       "    .dataframe tbody tr th:only-of-type {\n",
       "        vertical-align: middle;\n",
       "    }\n",
       "\n",
       "    .dataframe tbody tr th {\n",
       "        vertical-align: top;\n",
       "    }\n",
       "\n",
       "    .dataframe thead th {\n",
       "        text-align: right;\n",
       "    }\n",
       "</style>\n",
       "<table border=\"1\" class=\"dataframe\">\n",
       "  <thead>\n",
       "    <tr style=\"text-align: right;\">\n",
       "      <th></th>\n",
       "      <th>Rating</th>\n",
       "      <th>Duration to complete (Approx.)</th>\n",
       "      <th>Number of Review</th>\n",
       "    </tr>\n",
       "  </thead>\n",
       "  <tbody>\n",
       "    <tr>\n",
       "      <th>count</th>\n",
       "      <td>8370.000000</td>\n",
       "      <td>8370.000000</td>\n",
       "      <td>8370.000000</td>\n",
       "    </tr>\n",
       "    <tr>\n",
       "      <th>mean</th>\n",
       "      <td>4.005974</td>\n",
       "      <td>29.245968</td>\n",
       "      <td>2044.256631</td>\n",
       "    </tr>\n",
       "    <tr>\n",
       "      <th>std</th>\n",
       "      <td>1.623430</td>\n",
       "      <td>39.899608</td>\n",
       "      <td>10265.366839</td>\n",
       "    </tr>\n",
       "    <tr>\n",
       "      <th>min</th>\n",
       "      <td>0.000000</td>\n",
       "      <td>1.000000</td>\n",
       "      <td>0.000000</td>\n",
       "    </tr>\n",
       "    <tr>\n",
       "      <th>25%</th>\n",
       "      <td>4.500000</td>\n",
       "      <td>10.000000</td>\n",
       "      <td>32.000000</td>\n",
       "    </tr>\n",
       "    <tr>\n",
       "      <th>50%</th>\n",
       "      <td>4.700000</td>\n",
       "      <td>16.000000</td>\n",
       "      <td>213.000000</td>\n",
       "    </tr>\n",
       "    <tr>\n",
       "      <th>75%</th>\n",
       "      <td>4.800000</td>\n",
       "      <td>32.000000</td>\n",
       "      <td>1025.000000</td>\n",
       "    </tr>\n",
       "    <tr>\n",
       "      <th>max</th>\n",
       "      <td>5.000000</td>\n",
       "      <td>480.000000</td>\n",
       "      <td>225830.000000</td>\n",
       "    </tr>\n",
       "  </tbody>\n",
       "</table>\n",
       "</div>"
      ],
      "text/plain": [
       "            Rating  Duration to complete (Approx.)  Number of Review\n",
       "count  8370.000000                     8370.000000       8370.000000\n",
       "mean      4.005974                       29.245968       2044.256631\n",
       "std       1.623430                       39.899608      10265.366839\n",
       "min       0.000000                        1.000000          0.000000\n",
       "25%       4.500000                       10.000000         32.000000\n",
       "50%       4.700000                       16.000000        213.000000\n",
       "75%       4.800000                       32.000000       1025.000000\n",
       "max       5.000000                      480.000000     225830.000000"
      ]
     },
     "execution_count": 5,
     "metadata": {},
     "output_type": "execute_result"
    }
   ],
   "source": [
    "df.describe()"
   ]
  },
  {
   "cell_type": "markdown",
   "id": "9d05a62c",
   "metadata": {},
   "source": [
    "### Cleaning data"
   ]
  },
  {
   "cell_type": "markdown",
   "id": "17a7365e",
   "metadata": {},
   "source": [
    "#### Checking for missing values"
   ]
  },
  {
   "cell_type": "markdown",
   "id": "425b3a38",
   "metadata": {},
   "source": [
    "Although the source I got the dataset from reports that it is clean, I will certify this by looking for missing values and duplicates and doing imputation if necessary.\n",
    "\n",
    "I used the '.info()' and '.isnull().sum()' to verify the presence of missing values (null and NaN). It returned that there are 33 points in the Modules feature and 88 in the Instructor feature. Considering that this amount will be insignificant for the entire dataset, I will remove these points, as they correspond to only 1.45% of the dataset."
   ]
  },
  {
   "cell_type": "code",
   "execution_count": 6,
   "id": "5108831e",
   "metadata": {},
   "outputs": [
    {
     "name": "stdout",
     "output_type": "stream",
     "text": [
      "<class 'pandas.core.frame.DataFrame'>\n",
      "RangeIndex: 8370 entries, 0 to 8369\n",
      "Data columns (total 13 columns):\n",
      " #   Column                          Non-Null Count  Dtype  \n",
      "---  ------                          --------------  -----  \n",
      " 0   Course Title                    8370 non-null   object \n",
      " 1   Rating                          8370 non-null   float64\n",
      " 2   Level                           8370 non-null   object \n",
      " 3   Schedule                        8370 non-null   object \n",
      " 4   What you will learn             8370 non-null   object \n",
      " 5   Skill gain                      8370 non-null   object \n",
      " 6   Modules                         8337 non-null   object \n",
      " 7   Instructor                      8282 non-null   object \n",
      " 8   Offered By                      8370 non-null   object \n",
      " 9   Keyword                         8370 non-null   object \n",
      " 10  Course Url                      8370 non-null   object \n",
      " 11  Duration to complete (Approx.)  8370 non-null   float64\n",
      " 12  Number of Review                8370 non-null   int64  \n",
      "dtypes: float64(2), int64(1), object(10)\n",
      "memory usage: 850.2+ KB\n"
     ]
    }
   ],
   "source": [
    "df.info()"
   ]
  },
  {
   "cell_type": "code",
   "execution_count": 7,
   "id": "bb70be93",
   "metadata": {},
   "outputs": [
    {
     "data": {
      "text/plain": [
       "Course Title                       0\n",
       "Rating                             0\n",
       "Level                              0\n",
       "Schedule                           0\n",
       "What you will learn                0\n",
       "Skill gain                         0\n",
       "Modules                           33\n",
       "Instructor                        88\n",
       "Offered By                         0\n",
       "Keyword                            0\n",
       "Course Url                         0\n",
       "Duration to complete (Approx.)     0\n",
       "Number of Review                   0\n",
       "dtype: int64"
      ]
     },
     "execution_count": 7,
     "metadata": {},
     "output_type": "execute_result"
    }
   ],
   "source": [
    "df.isnull().sum()"
   ]
  },
  {
   "cell_type": "markdown",
   "id": "7b22721c",
   "metadata": {},
   "source": [
    "I will use the function '.dropna(axis=0)' to remove the rows with missing values and the new daframe will be named 'df1'."
   ]
  },
  {
   "cell_type": "code",
   "execution_count": 8,
   "id": "70341bc9",
   "metadata": {},
   "outputs": [],
   "source": [
    "df1 = df.dropna(axis=0)"
   ]
  },
  {
   "cell_type": "code",
   "execution_count": 9,
   "id": "30ccb269",
   "metadata": {},
   "outputs": [
    {
     "data": {
      "text/plain": [
       "(8249, 13)"
      ]
     },
     "execution_count": 9,
     "metadata": {},
     "output_type": "execute_result"
    }
   ],
   "source": [
    "df1.shape"
   ]
  },
  {
   "cell_type": "code",
   "execution_count": 10,
   "id": "495624d2",
   "metadata": {},
   "outputs": [
    {
     "data": {
      "text/plain": [
       "Course Title                      0\n",
       "Rating                            0\n",
       "Level                             0\n",
       "Schedule                          0\n",
       "What you will learn               0\n",
       "Skill gain                        0\n",
       "Modules                           0\n",
       "Instructor                        0\n",
       "Offered By                        0\n",
       "Keyword                           0\n",
       "Course Url                        0\n",
       "Duration to complete (Approx.)    0\n",
       "Number of Review                  0\n",
       "dtype: int64"
      ]
     },
     "execution_count": 10,
     "metadata": {},
     "output_type": "execute_result"
    }
   ],
   "source": [
    "df1.isnull().sum()"
   ]
  },
  {
   "cell_type": "markdown",
   "id": "55faaeee",
   "metadata": {},
   "source": [
    "Then, I checked for duplicates using the '.duplicated().sum()' tool, and there were no duplicates in this dataset."
   ]
  },
  {
   "cell_type": "code",
   "execution_count": 11,
   "id": "c51a9a0d",
   "metadata": {},
   "outputs": [
    {
     "data": {
      "text/plain": [
       "0"
      ]
     },
     "execution_count": 11,
     "metadata": {},
     "output_type": "execute_result"
    }
   ],
   "source": [
    "df1.duplicated().sum()"
   ]
  },
  {
   "cell_type": "code",
   "execution_count": 12,
   "id": "a994fa34",
   "metadata": {},
   "outputs": [
    {
     "name": "stdout",
     "output_type": "stream",
     "text": [
      "<class 'pandas.core.frame.DataFrame'>\n",
      "Int64Index: 8249 entries, 0 to 8369\n",
      "Data columns (total 13 columns):\n",
      " #   Column                          Non-Null Count  Dtype  \n",
      "---  ------                          --------------  -----  \n",
      " 0   Course Title                    8249 non-null   object \n",
      " 1   Rating                          8249 non-null   float64\n",
      " 2   Level                           8249 non-null   object \n",
      " 3   Schedule                        8249 non-null   object \n",
      " 4   What you will learn             8249 non-null   object \n",
      " 5   Skill gain                      8249 non-null   object \n",
      " 6   Modules                         8249 non-null   object \n",
      " 7   Instructor                      8249 non-null   object \n",
      " 8   Offered By                      8249 non-null   object \n",
      " 9   Keyword                         8249 non-null   object \n",
      " 10  Course Url                      8249 non-null   object \n",
      " 11  Duration to complete (Approx.)  8249 non-null   float64\n",
      " 12  Number of Review                8249 non-null   int64  \n",
      "dtypes: float64(2), int64(1), object(10)\n",
      "memory usage: 902.2+ KB\n"
     ]
    }
   ],
   "source": [
    "df1.info()"
   ]
  },
  {
   "cell_type": "markdown",
   "id": "23b0e3d4",
   "metadata": {},
   "source": [
    "#### Checking for outliers"
   ]
  },
  {
   "cell_type": "markdown",
   "id": "d57539ad",
   "metadata": {},
   "source": [
    "Based on my previous observations, this dataset appears skewed, suggesting the presence of potential outliers. To assess this, I will calculate the Interquartile Range (IQR) using the first and third quartile values. Subsequently, I will employ a boxplot graphic to visualize certain features. Finally, I will identify and, if necessary, remove any outliers that do not compromise the integrity of the dataset."
   ]
  },
  {
   "cell_type": "code",
   "execution_count": 13,
   "id": "aef76f66",
   "metadata": {},
   "outputs": [],
   "source": [
    "Q1 = df1.quantile(0.25, numeric_only=True)\n",
    "Q3 = df1.quantile(0.75, numeric_only=True)\n",
    "IQR = Q3 - Q1"
   ]
  },
  {
   "cell_type": "code",
   "execution_count": 14,
   "id": "16f754de",
   "metadata": {},
   "outputs": [
    {
     "name": "stderr",
     "output_type": "stream",
     "text": [
      "C:\\Users\\danie\\AppData\\Local\\Temp\\ipykernel_30596\\1587481724.py:1: FutureWarning: Automatic reindexing on DataFrame vs Series comparisons is deprecated and will raise ValueError in a future version. Do `left, right = left.align(right, axis=1, copy=False)` before e.g. `left == right`\n",
      "  df2 = df1[~((df1<(Q1-1.5*IQR))|(df1>Q3+1.5*IQR)).any(axis=1)]\n"
     ]
    },
    {
     "data": {
      "text/plain": [
       "(5259, 13)"
      ]
     },
     "execution_count": 14,
     "metadata": {},
     "output_type": "execute_result"
    }
   ],
   "source": [
    "df2 = df1[~((df1<(Q1-1.5*IQR))|(df1>Q3+1.5*IQR)).any(axis=1)]\n",
    "df2.shape"
   ]
  },
  {
   "cell_type": "code",
   "execution_count": 15,
   "id": "408c221d",
   "metadata": {},
   "outputs": [
    {
     "name": "stderr",
     "output_type": "stream",
     "text": [
      "C:\\Users\\danie\\AppData\\Local\\Temp\\ipykernel_30596\\713608911.py:1: FutureWarning: Automatic reindexing on DataFrame vs Series comparisons is deprecated and will raise ValueError in a future version. Do `left, right = left.align(right, axis=1, copy=False)` before e.g. `left == right`\n",
      "  df3 = df1[~((df1<(Q1-2*IQR))|(df1>Q3+2*IQR)).any(axis=1)]\n"
     ]
    },
    {
     "data": {
      "text/plain": [
       "(5465, 13)"
      ]
     },
     "execution_count": 15,
     "metadata": {},
     "output_type": "execute_result"
    }
   ],
   "source": [
    "df3 = df1[~((df1<(Q1-2*IQR))|(df1>Q3+2*IQR)).any(axis=1)]\n",
    "df3.shape"
   ]
  },
  {
   "cell_type": "code",
   "execution_count": 16,
   "id": "a9540ade",
   "metadata": {},
   "outputs": [
    {
     "name": "stderr",
     "output_type": "stream",
     "text": [
      "C:\\Users\\danie\\AppData\\Local\\Temp\\ipykernel_30596\\3183353013.py:1: FutureWarning: Automatic reindexing on DataFrame vs Series comparisons is deprecated and will raise ValueError in a future version. Do `left, right = left.align(right, axis=1, copy=False)` before e.g. `left == right`\n",
      "  df4 = df1[~((df1<(Q1-3*IQR))|(df1>Q3+3*IQR)).any(axis=1)]\n"
     ]
    },
    {
     "data": {
      "text/plain": [
       "(6092, 13)"
      ]
     },
     "execution_count": 16,
     "metadata": {},
     "output_type": "execute_result"
    }
   ],
   "source": [
    "df4 = df1[~((df1<(Q1-3*IQR))|(df1>Q3+3*IQR)).any(axis=1)]\n",
    "df4.shape"
   ]
  },
  {
   "cell_type": "markdown",
   "id": "729995d5",
   "metadata": {},
   "source": [
    " #### Boxplot graphic to visualize outliers"
   ]
  },
  {
   "cell_type": "code",
   "execution_count": 17,
   "id": "50a2edc7",
   "metadata": {},
   "outputs": [
    {
     "data": {
      "image/png": "[encoded data removed]",
      "text/plain": [
       "<Figure size 640x480 with 1 Axes>"
      ]
     },
     "metadata": {},
     "output_type": "display_data"
    },
    {
     "data": {
      "image/png": "[encoded data removed]",
      "text/plain": [
       "<Figure size 640x480 with 1 Axes>"
      ]
     },
     "metadata": {},
     "output_type": "display_data"
    },
    {
     "data": {
      "image/png": "[encoded data removed]",
      "text/plain": [
       "<Figure size 640x480 with 1 Axes>"
      ]
     },
     "metadata": {},
     "output_type": "display_data"
    },
    {
     "data": {
      "image/png": "[encoded data removed]",
      "text/plain": [
       "<Figure size 640x480 with 1 Axes>"
      ]
     },
     "metadata": {},
     "output_type": "display_data"
    }
   ],
   "source": [
    "df1.boxplot(column=['Rating', 'Duration to complete (Approx.)', 'Number of Review'])\n",
    "plt.ylim(bottom=-50000, top=250000)\n",
    "plt.title('Original data (no outliers remotion)')\n",
    "plt.ylabel('Values')\n",
    "plt.show()\n",
    "\n",
    "df2.boxplot(column=['Rating', 'Duration to complete (Approx.)', 'Number of Review'])\n",
    "plt.ylim(bottom=-500, top=3000)\n",
    "plt.title('After outliers remotion (threshold = 1.5)')\n",
    "plt.ylabel('Values')\n",
    "plt.show()\n",
    "\n",
    "df3.boxplot(column=['Rating', 'Duration to complete (Approx.)', 'Number of Review'])\n",
    "plt.ylim(bottom=-500, top=3500)\n",
    "plt.title('After outliers remotion (threshold = 2.0)')\n",
    "plt.ylabel('Values')\n",
    "plt.show()\n",
    "\n",
    "df4.boxplot(column=['Rating', 'Duration to complete (Approx.)', 'Number of Review'])\n",
    "plt.ylim(bottom=-500, top=5000)\n",
    "plt.title('After outliers remotion (threshold = 3.0)')\n",
    "plt.ylabel('Values')\n",
    "plt.show()"
   ]
  },
  {
   "cell_type": "markdown",
   "id": "2329775a",
   "metadata": {},
   "source": [
    "After applying three different thresholds (1.5, 2.0, and 3.0), I obtained the minimum amount of data removal, which would be 26.15% of the data. This is a considerable amount that might compromise the integrity of the data. Furthermore, the variables 'Rating' and 'Duration to complete (Approx.)' did not present outliers. This occurrence only affected the variable 'Number of Reviews,' which I need to be careful with when working with it. Therefore, I will not remove outliers."
   ]
  },
  {
   "cell_type": "markdown",
   "id": "ec94d809",
   "metadata": {},
   "source": [
    "## Data Preprocessing"
   ]
  },
  {
   "cell_type": "markdown",
   "id": "1db75d6b",
   "metadata": {},
   "source": [
    "Data preprocessing is crucial to the success of both supervised and unsupervised learning because this step can facilitate data computation more efficiently (Müller and Guido, 2017, p.138, 208).\n",
    "\n",
    "Before choosing which method to use for scaling the data, I will check the data's sparsity because it provides information about the more suitable scaling method."
   ]
  },
  {
   "cell_type": "markdown",
   "id": "e6f5fb47",
   "metadata": {},
   "source": [
    "### Sparsity of the data\n",
    "Sparse datasets are characterized by most features having 0 most of the time (Müller and Guido, 2017, p.44) and the sparsity is a measurement of how sparse or dense a dataset is. It can be represented as the ratio of the number of zero or missing values to the total number of data points or entries in the dataset. "
   ]
  },
  {
   "cell_type": "code",
   "execution_count": 18,
   "id": "858856f2",
   "metadata": {},
   "outputs": [
    {
     "name": "stdout",
     "output_type": "stream",
     "text": [
      "Sparsity of the dataset: 0.021\n"
     ]
    }
   ],
   "source": [
    "missing_values = df1.isnull().sum().sum()\n",
    "zero_values = (df1 == 0).sum().sum()\n",
    "\n",
    "total_data_points = df1.size\n",
    "\n",
    "sparsity = (missing_values + zero_values) / total_data_points\n",
    "\n",
    "print(f\"Sparsity of the dataset: {sparsity:.3f}\")"
   ]
  },
  {
   "cell_type": "markdown",
   "id": "6d1be721",
   "metadata": {},
   "source": [
    "The sparsity values must be between 0 and 1 when 0 indicates no sparsity, and 1 indicates completely spaced. The result for this dataset was found to be 0.021, meaning that the dataset sparcity is relatively low. Thus, this data does not have a significant portion of missing or zero values.\n",
    "\n",
    "Therefore, considering that the data is not sparse but skewed, using the MinMax Scaler is more suitable in this case. This practice is indicated for many algorithms sensitive to data scaling (Müller and Guido, 2017, p.132)."
   ]
  },
  {
   "cell_type": "markdown",
   "id": "62b48f59",
   "metadata": {},
   "source": [
    "### Data Scaling"
   ]
  },
  {
   "cell_type": "markdown",
   "id": "4544f718",
   "metadata": {},
   "source": [
    "The use of data scaler is a common preprocessing for many ML models, and considering the results obtained above that the data is skewed and not sparse the Min-Max Scaling is the more suitable in this situation.\n",
    "\n",
    "To start, I will specify the numerical columns that I will scale and then use the sklearn.preprocessing package to acesse the MinMaxScaler to transform the data."
   ]
  },
  {
   "cell_type": "code",
   "execution_count": 23,
   "id": "32ac2506",
   "metadata": {},
   "outputs": [],
   "source": [
    "columns_to_scale = ['Rating', 'Duration to complete (Approx.)', 'Number of Review']\n",
    "df_subset = df1[columns_to_scale]"
   ]
  },
  {
   "cell_type": "code",
   "execution_count": 24,
   "id": "32e4b1d0",
   "metadata": {},
   "outputs": [
    {
     "data": {
      "text/html": [
       "<div>\n",
       "<style scoped>\n",
       "    .dataframe tbody tr th:only-of-type {\n",
       "        vertical-align: middle;\n",
       "    }\n",
       "\n",
       "    .dataframe tbody tr th {\n",
       "        vertical-align: top;\n",
       "    }\n",
       "\n",
       "    .dataframe thead th {\n",
       "        text-align: right;\n",
       "    }\n",
       "</style>\n",
       "<table border=\"1\" class=\"dataframe\">\n",
       "  <thead>\n",
       "    <tr style=\"text-align: right;\">\n",
       "      <th></th>\n",
       "      <th>Rating</th>\n",
       "      <th>Duration to complete (Approx.)</th>\n",
       "      <th>Number of Review</th>\n",
       "    </tr>\n",
       "  </thead>\n",
       "  <tbody>\n",
       "    <tr>\n",
       "      <th>0</th>\n",
       "      <td>4.8</td>\n",
       "      <td>20.0</td>\n",
       "      <td>2813</td>\n",
       "    </tr>\n",
       "    <tr>\n",
       "      <th>1</th>\n",
       "      <td>4.4</td>\n",
       "      <td>34.0</td>\n",
       "      <td>100</td>\n",
       "    </tr>\n",
       "    <tr>\n",
       "      <th>2</th>\n",
       "      <td>4.5</td>\n",
       "      <td>9.0</td>\n",
       "      <td>227</td>\n",
       "    </tr>\n",
       "    <tr>\n",
       "      <th>3</th>\n",
       "      <td>0.0</td>\n",
       "      <td>8.0</td>\n",
       "      <td>0</td>\n",
       "    </tr>\n",
       "    <tr>\n",
       "      <th>4</th>\n",
       "      <td>4.8</td>\n",
       "      <td>11.0</td>\n",
       "      <td>582</td>\n",
       "    </tr>\n",
       "  </tbody>\n",
       "</table>\n",
       "</div>"
      ],
      "text/plain": [
       "   Rating  Duration to complete (Approx.)  Number of Review\n",
       "0     4.8                            20.0              2813\n",
       "1     4.4                            34.0               100\n",
       "2     4.5                             9.0               227\n",
       "3     0.0                             8.0                 0\n",
       "4     4.8                            11.0               582"
      ]
     },
     "execution_count": 24,
     "metadata": {},
     "output_type": "execute_result"
    }
   ],
   "source": [
    "df_subset.head()"
   ]
  },
  {
   "cell_type": "code",
   "execution_count": 25,
   "id": "193b73b5",
   "metadata": {
    "scrolled": true
   },
   "outputs": [
    {
     "name": "stdout",
     "output_type": "stream",
     "text": [
      "[[9.60000000e-01 3.96659708e-02 1.24562724e-02]\n",
      " [8.80000000e-01 6.88935282e-02 4.42810964e-04]\n",
      " [9.00000000e-01 1.67014614e-02 1.00518089e-03]\n",
      " ...\n",
      " [0.00000000e+00 1.67014614e-02 0.00000000e+00]\n",
      " [0.00000000e+00 3.75782881e-02 0.00000000e+00]\n",
      " [0.00000000e+00 2.08768267e-03 0.00000000e+00]]\n"
     ]
    }
   ],
   "source": [
    "scaler = MinMaxScaler()\n",
    "df_scaled = scaler.fit_transform(df_subset)\n",
    "print(df_scaled)"
   ]
  },
  {
   "cell_type": "code",
   "execution_count": null,
   "id": "7c2eba42",
   "metadata": {},
   "outputs": [],
   "source": []
  },
  {
   "cell_type": "code",
   "execution_count": null,
   "id": "7f1d8df1",
   "metadata": {},
   "outputs": [],
   "source": []
  },
  {
   "cell_type": "code",
   "execution_count": null,
   "id": "a7b95c61",
   "metadata": {},
   "outputs": [],
   "source": []
  },
  {
   "cell_type": "code",
   "execution_count": null,
   "id": "94e06338",
   "metadata": {
    "scrolled": true
   },
   "outputs": [],
   "source": []
  },
  {
   "cell_type": "code",
   "execution_count": null,
   "id": "51729652",
   "metadata": {},
   "outputs": [],
   "source": []
  },
  {
   "cell_type": "code",
   "execution_count": null,
   "id": "59375cce",
   "metadata": {},
   "outputs": [],
   "source": []
  },
  {
   "cell_type": "markdown",
   "id": "cc88bc00",
   "metadata": {},
   "source": [
    "# ML models"
   ]
  },
  {
   "cell_type": "code",
   "execution_count": null,
   "id": "a7b6d9a1",
   "metadata": {},
   "outputs": [],
   "source": []
  },
  {
   "cell_type": "code",
   "execution_count": null,
   "id": "91e9a627",
   "metadata": {},
   "outputs": [],
   "source": []
  },
  {
   "cell_type": "markdown",
   "id": "74f91f53",
   "metadata": {},
   "source": [
    "# References"
   ]
  },
  {
   "cell_type": "markdown",
   "id": "7de29570",
   "metadata": {},
   "source": [
    "Müller, A. C. and Guido, S. (2017). Introduction to machine learning with Python: a guide for data scientists. 1st ed. United States of America. O’reilly Media.\n",
    "\n",
    "**Delete** Jaiswal, S. (2024). *What is Normalization in Machine Learning? A Comprehensive Guide to Data Rescaling*. [online] DataCamp. Available at: https://www.datacamp.com/tutorial/normalization-in-machine-learning. [Accessed 20 Mar. 2024]."
   ]
  },
  {
   "cell_type": "code",
   "execution_count": null,
   "id": "52fc65b6",
   "metadata": {},
   "outputs": [],
   "source": []
  }
 ],
 "metadata": {
  "kernelspec": {
   "display_name": "Python 3 (ipykernel)",
   "language": "python",
   "name": "python3"
  },
  "language_info": {
   "codemirror_mode": {
    "name": "ipython",
    "version": 3
   },
   "file_extension": ".py",
   "mimetype": "text/x-python",
   "name": "python",
   "nbconvert_exporter": "python",
   "pygments_lexer": "ipython3",
   "version": "3.11.4"
  }
 },
 "nbformat": 4,
 "nbformat_minor": 5
}
