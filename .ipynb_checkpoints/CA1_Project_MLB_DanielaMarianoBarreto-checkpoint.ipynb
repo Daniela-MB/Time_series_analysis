{
 "cells": [
  {
   "cell_type": "markdown",
   "id": "df0bdeb7",
   "metadata": {},
   "source": [
    "# CA 1 - Project: Machine Learning for Business"
   ]
  },
  {
   "cell_type": "markdown",
   "id": "596af08c",
   "metadata": {},
   "source": [
    "To start this project, I will gather at the beginning all the libraries used to manipulate data, create visualizations, and develop and deploy machine learning models (ML)."
   ]
  },
  {
   "cell_type": "code",
   "execution_count": 1,
   "id": "84fcec47",
   "metadata": {},
   "outputs": [],
   "source": [
    "import pandas as pd\n",
    "import numpy as np\n",
    "import statistics as stats\n",
    "import matplotlib.pyplot as plt\n",
    "import seaborn as sns"
   ]
  },
  {
   "cell_type": "markdown",
   "id": "dad32c87",
   "metadata": {},
   "source": [
    "## Importing dataset and knowing data structure"
   ]
  },
  {
   "cell_type": "markdown",
   "id": "ede18838",
   "metadata": {},
   "source": [
    "The method 'pd.read_csv' was used to access the CSV file containing the dataset. Then, I used the method 'df.head' to visualize the data, followed by the method 'df.shape' to determine the dataset size. I found that this dataset has 8370 rows and 13 columns."
   ]
  },
  {
   "cell_type": "code",
   "execution_count": 4,
   "id": "cbe53cee",
   "metadata": {},
   "outputs": [
    {
     "data": {
      "text/html": [
       "<div>\n",
       "<style scoped>\n",
       "    .dataframe tbody tr th:only-of-type {\n",
       "        vertical-align: middle;\n",
       "    }\n",
       "\n",
       "    .dataframe tbody tr th {\n",
       "        vertical-align: top;\n",
       "    }\n",
       "\n",
       "    .dataframe thead th {\n",
       "        text-align: right;\n",
       "    }\n",
       "</style>\n",
       "<table border=\"1\" class=\"dataframe\">\n",
       "  <thead>\n",
       "    <tr style=\"text-align: right;\">\n",
       "      <th></th>\n",
       "      <th>Course Title</th>\n",
       "      <th>Rating</th>\n",
       "      <th>Level</th>\n",
       "      <th>Schedule</th>\n",
       "      <th>What you will learn</th>\n",
       "      <th>Skill gain</th>\n",
       "      <th>Modules</th>\n",
       "      <th>Instructor</th>\n",
       "      <th>Offered By</th>\n",
       "      <th>Keyword</th>\n",
       "      <th>Course Url</th>\n",
       "      <th>Duration to complete (Approx.)</th>\n",
       "      <th>Number of Review</th>\n",
       "    </tr>\n",
       "  </thead>\n",
       "  <tbody>\n",
       "    <tr>\n",
       "      <th>0</th>\n",
       "      <td>Fashion as Design</td>\n",
       "      <td>4.8</td>\n",
       "      <td>Beginner level</td>\n",
       "      <td>Flexible schedule</td>\n",
       "      <td>Not specified</td>\n",
       "      <td>Art History, Art, History, Creativity</td>\n",
       "      <td>Introduction, Heroes, Silhouettes, Coutures, L...</td>\n",
       "      <td>Anna Burckhardt, Paola Antonelli, Michelle Mil...</td>\n",
       "      <td>The Museum of Modern Art</td>\n",
       "      <td>Arts and Humanities</td>\n",
       "      <td>https://www.coursera.org/learn/fashion-design</td>\n",
       "      <td>20.0</td>\n",
       "      <td>2813</td>\n",
       "    </tr>\n",
       "    <tr>\n",
       "      <th>1</th>\n",
       "      <td>Modern American Poetry</td>\n",
       "      <td>4.4</td>\n",
       "      <td>Beginner level</td>\n",
       "      <td>Flexible schedule</td>\n",
       "      <td>Not specified</td>\n",
       "      <td>Not specified</td>\n",
       "      <td>Orientation, Module 1, Module 2, Module 3, Mod...</td>\n",
       "      <td>Cary Nelson</td>\n",
       "      <td>University of Illinois at Urbana-Champaign</td>\n",
       "      <td>Arts and Humanities</td>\n",
       "      <td>https://www.coursera.org/learn/modern-american...</td>\n",
       "      <td>34.0</td>\n",
       "      <td>100</td>\n",
       "    </tr>\n",
       "    <tr>\n",
       "      <th>2</th>\n",
       "      <td>Pixel Art for Video Games</td>\n",
       "      <td>4.5</td>\n",
       "      <td>Beginner level</td>\n",
       "      <td>Flexible schedule</td>\n",
       "      <td>Not specified</td>\n",
       "      <td>Not specified</td>\n",
       "      <td>Week 1: Introduction to Pixel Art, Week 2: Pix...</td>\n",
       "      <td>Andrew Dennis, Ricardo Guimaraes</td>\n",
       "      <td>Michigan State University</td>\n",
       "      <td>Arts and Humanities</td>\n",
       "      <td>https://www.coursera.org/learn/pixel-art-video...</td>\n",
       "      <td>9.0</td>\n",
       "      <td>227</td>\n",
       "    </tr>\n",
       "    <tr>\n",
       "      <th>3</th>\n",
       "      <td>Distribución digital de la música independiente</td>\n",
       "      <td>0.0</td>\n",
       "      <td>Beginner level</td>\n",
       "      <td>Flexible schedule</td>\n",
       "      <td>Not specified</td>\n",
       "      <td>Not specified</td>\n",
       "      <td>Semana 1, Semana 2, Semana 3, Semana 4</td>\n",
       "      <td>Eduardo de la Vara Brown.</td>\n",
       "      <td>SAE Institute México</td>\n",
       "      <td>Arts and Humanities</td>\n",
       "      <td>https://www.coursera.org/learn/distribucion-di...</td>\n",
       "      <td>8.0</td>\n",
       "      <td>0</td>\n",
       "    </tr>\n",
       "    <tr>\n",
       "      <th>4</th>\n",
       "      <td>The Blues: Understanding and Performing an Ame...</td>\n",
       "      <td>4.8</td>\n",
       "      <td>Beginner level</td>\n",
       "      <td>Flexible schedule</td>\n",
       "      <td>Students will be able to describe the blues as...</td>\n",
       "      <td>Music, Chord, Jazz, Jazz Improvisation</td>\n",
       "      <td>Blues Progressions – Theory and Practice , Blu...</td>\n",
       "      <td>Dariusz Terefenko</td>\n",
       "      <td>University of Rochester</td>\n",
       "      <td>Arts and Humanities</td>\n",
       "      <td>https://www.coursera.org/learn/the-blues</td>\n",
       "      <td>11.0</td>\n",
       "      <td>582</td>\n",
       "    </tr>\n",
       "  </tbody>\n",
       "</table>\n",
       "</div>"
      ],
      "text/plain": [
       "                                        Course Title  Rating           Level  \\\n",
       "0                                  Fashion as Design     4.8  Beginner level   \n",
       "1                             Modern American Poetry     4.4  Beginner level   \n",
       "2                          Pixel Art for Video Games     4.5  Beginner level   \n",
       "3    Distribución digital de la música independiente     0.0  Beginner level   \n",
       "4  The Blues: Understanding and Performing an Ame...     4.8  Beginner level   \n",
       "\n",
       "            Schedule                                What you will learn  \\\n",
       "0  Flexible schedule                                      Not specified   \n",
       "1  Flexible schedule                                      Not specified   \n",
       "2  Flexible schedule                                      Not specified   \n",
       "3  Flexible schedule                                      Not specified   \n",
       "4  Flexible schedule  Students will be able to describe the blues as...   \n",
       "\n",
       "                               Skill gain  \\\n",
       "0   Art History, Art, History, Creativity   \n",
       "1                           Not specified   \n",
       "2                           Not specified   \n",
       "3                           Not specified   \n",
       "4  Music, Chord, Jazz, Jazz Improvisation   \n",
       "\n",
       "                                             Modules  \\\n",
       "0  Introduction, Heroes, Silhouettes, Coutures, L...   \n",
       "1  Orientation, Module 1, Module 2, Module 3, Mod...   \n",
       "2  Week 1: Introduction to Pixel Art, Week 2: Pix...   \n",
       "3             Semana 1, Semana 2, Semana 3, Semana 4   \n",
       "4  Blues Progressions – Theory and Practice , Blu...   \n",
       "\n",
       "                                          Instructor  \\\n",
       "0  Anna Burckhardt, Paola Antonelli, Michelle Mil...   \n",
       "1                                        Cary Nelson   \n",
       "2                   Andrew Dennis, Ricardo Guimaraes   \n",
       "3                          Eduardo de la Vara Brown.   \n",
       "4                                  Dariusz Terefenko   \n",
       "\n",
       "                                   Offered By              Keyword  \\\n",
       "0                    The Museum of Modern Art  Arts and Humanities   \n",
       "1  University of Illinois at Urbana-Champaign  Arts and Humanities   \n",
       "2                   Michigan State University  Arts and Humanities   \n",
       "3                        SAE Institute México  Arts and Humanities   \n",
       "4                     University of Rochester  Arts and Humanities   \n",
       "\n",
       "                                          Course Url  \\\n",
       "0      https://www.coursera.org/learn/fashion-design   \n",
       "1  https://www.coursera.org/learn/modern-american...   \n",
       "2  https://www.coursera.org/learn/pixel-art-video...   \n",
       "3  https://www.coursera.org/learn/distribucion-di...   \n",
       "4           https://www.coursera.org/learn/the-blues   \n",
       "\n",
       "   Duration to complete (Approx.)  Number of Review  \n",
       "0                            20.0              2813  \n",
       "1                            34.0               100  \n",
       "2                             9.0               227  \n",
       "3                             8.0                 0  \n",
       "4                            11.0               582  "
      ]
     },
     "execution_count": 4,
     "metadata": {},
     "output_type": "execute_result"
    }
   ],
   "source": [
    "df = pd.read_csv(\"CourseraDataset-Clean.csv\")\n",
    "df.head()"
   ]
  },
  {
   "cell_type": "code",
   "execution_count": 6,
   "id": "76d78424",
   "metadata": {},
   "outputs": [
    {
     "data": {
      "text/plain": [
       "(8370, 13)"
      ]
     },
     "execution_count": 6,
     "metadata": {},
     "output_type": "execute_result"
    }
   ],
   "source": [
    "df.shape"
   ]
  },
  {
   "cell_type": "code",
   "execution_count": 9,
   "id": "93e251f7",
   "metadata": {},
   "outputs": [
    {
     "data": {
      "text/plain": [
       "Course Title                       object\n",
       "Rating                            float64\n",
       "Level                              object\n",
       "Schedule                           object\n",
       "What you will learn                object\n",
       "Skill gain                         object\n",
       "Modules                            object\n",
       "Instructor                         object\n",
       "Offered By                         object\n",
       "Keyword                            object\n",
       "Course Url                         object\n",
       "Duration to complete (Approx.)    float64\n",
       "Number of Review                    int64\n",
       "dtype: object"
      ]
     },
     "execution_count": 9,
     "metadata": {},
     "output_type": "execute_result"
    }
   ],
   "source": [
    "df.dtypes"
   ]
  },
  {
   "cell_type": "code",
   "execution_count": null,
   "id": "7488c666",
   "metadata": {},
   "outputs": [],
   "source": []
  }
 ],
 "metadata": {
  "kernelspec": {
   "display_name": "Python 3 (ipykernel)",
   "language": "python",
   "name": "python3"
  },
  "language_info": {
   "codemirror_mode": {
    "name": "ipython",
    "version": 3
   },
   "file_extension": ".py",
   "mimetype": "text/x-python",
   "name": "python",
   "nbconvert_exporter": "python",
   "pygments_lexer": "ipython3",
   "version": "3.11.4"
  }
 },
 "nbformat": 4,
 "nbformat_minor": 5
}
